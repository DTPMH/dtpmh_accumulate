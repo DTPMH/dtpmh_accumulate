{
 "cells": [
  {
   "cell_type": "markdown",
   "metadata": {
    "id": "-PkxoyAbPp8Y"
   },
   "source": [
    "#  Python Quickstart Tutorial\n",
    "\n",
    "\n",
    "![logo](https://i.imgur.com/4QwfLZv.png)\n",
    "\n",
    "\n",
    "## Table of contents\n",
    "\n",
    "0. <a href=\"#0.-Notebook-Controls\">Notebook Controls</a>\n",
    "1. <a href=\"#1.-Imports\">Imports</a>\n",
    "2. <a href=\"#2.-Math\">Math</a>\n",
    "3. <a href=\"#3.-Comparisons-and-Boolean-Operations\">Comparisons and Boolean Operations</a>\n",
    "4. <a href=\"#4.-Conditional-Statements\">Conditional Statements</a>\n",
    "5. <a href=\"#5.-Lists\">Lists</a>\n",
    "6. <a href=\"#6.-Defining-Functions\">Defining Functions</a>\n",
    "7. <a href=\"#7.-Anonymous-%28Lambda%29-Functions\">Anonymous (Lambda) Functions</a>\n",
    "8. <a href=\"#8.-For-Loops-and-While-Loops\">For Loops and While Loops</a>\n",
    "9. <a href=\"#9.-Comprehensions\">Comprehensions</a>\n",
    "10. <a href=\"#10.-Map-and-Filter\">Map and Filter</a>\n",
    "11. <a href=\"#11.-Numpy\">Numpy</a>\n",
    "12. <a href=\"#12.-Matplotlib\">Matplotlib</a>"
   ]
  },
  {
   "cell_type": "markdown",
   "metadata": {
    "id": "PCAsI1_YPp8Z"
   },
   "source": [
    "Python is a high-level, dynamically typed multiparadigm programming language. Python code is often said to be almost like pseudocode, since it allows you to express very powerful ideas in very few lines of code while being very readable.\n",
    "\n",
    "Python is a great general-purpose programming language on its own, but with the help of a few popular libraries (numpy, scipy, matplotlib) it becomes a powerful environment for scientific computing."
   ]
  },
  {
   "cell_type": "markdown",
   "metadata": {
    "id": "2oeC3D_gPp8a"
   },
   "source": [
    "## 0. Notebook Controls\n",
    "\n",
    "The notebook is split into cells. Each cell can contain Python code or Markdown. \n",
    "\n",
    "One can add a new cell by clicking the `+` code symbol in the top left which will create a new cell for python code. \n",
    "\n",
    "After selecting a cell can be executed it by either clicking the Run bottom on top or pressing `Shift+Enter` (or `Ctrl+Enter` for Run but not advance). Try this on the cell below. \n",
    "\n",
    "Check the help in the toolbar for more information.\n",
    "\n",
    "*For google cobal users: change the identation from 2 to 4. Tools -> Settings -> Editor -> change \"Identention width in spaces\" from 2 to 4.*"
   ]
  },
  {
   "cell_type": "code",
   "execution_count": 1,
   "metadata": {
    "colab": {
     "base_uri": "https://localhost:8080/"
    },
    "executionInfo": {
     "elapsed": 586,
     "status": "ok",
     "timestamp": 1611593791762,
     "user": {
      "displayName": "Gerben Beintema",
      "photoUrl": "https://lh3.googleusercontent.com/a-/AOh14GiDB1vo6wnSlIsMMGD0ly3iE5msxIZDp41lVxtVGFU=s64",
      "userId": "17991627602473413087"
     },
     "user_tz": -60
    },
    "id": "0eVPhblwPp8a",
    "outputId": "dd63373a-a99d-4987-dce8-108f00d29712"
   },
   "outputs": [
    {
     "name": "stdout",
     "output_type": "stream",
     "text": [
      "Hallo World\n"
     ]
    }
   ],
   "source": [
    "print('Hallo World')"
   ]
  },
  {
   "cell_type": "code",
   "execution_count": 4,
   "metadata": {
    "id": "UQXuJy3CPp8d"
   },
   "outputs": [
    {
     "name": "stdout",
     "output_type": "stream",
     "text": [
      "3.141\n"
     ]
    }
   ],
   "source": [
    "print(3.141)"
   ]
  },
  {
   "cell_type": "markdown",
   "metadata": {
    "id": "wfpkk7ZsPp8f"
   },
   "source": [
    "Some things are important to remeber while using notebooks. \n",
    "\n",
    "First is that variables are shared between cells. For instance,"
   ]
  },
  {
   "cell_type": "code",
   "execution_count": 5,
   "metadata": {
    "executionInfo": {
     "elapsed": 512,
     "status": "ok",
     "timestamp": 1611735301613,
     "user": {
      "displayName": "Gerben Beintema",
      "photoUrl": "https://lh3.googleusercontent.com/a-/AOh14GiDB1vo6wnSlIsMMGD0ly3iE5msxIZDp41lVxtVGFU=s64",
      "userId": "17991627602473413087"
     },
     "user_tz": -60
    },
    "id": "gywDPO8MPp8g"
   },
   "outputs": [],
   "source": [
    "a = 1 #assign 1 to a"
   ]
  },
  {
   "cell_type": "code",
   "execution_count": 6,
   "metadata": {
    "colab": {
     "base_uri": "https://localhost:8080/"
    },
    "executionInfo": {
     "elapsed": 580,
     "status": "ok",
     "timestamp": 1611735304714,
     "user": {
      "displayName": "Gerben Beintema",
      "photoUrl": "https://lh3.googleusercontent.com/a-/AOh14GiDB1vo6wnSlIsMMGD0ly3iE5msxIZDp41lVxtVGFU=s64",
      "userId": "17991627602473413087"
     },
     "user_tz": -60
    },
    "id": "J-5_eHX1Pp8h",
    "outputId": "06020ca8-7c6e-4cbb-c7b7-c63ab1a6f68f"
   },
   "outputs": [
    {
     "name": "stdout",
     "output_type": "stream",
     "text": [
      "a = 1\n"
     ]
    }
   ],
   "source": [
    "print('a =',a) #print a which is remembered from the previous execution"
   ]
  },
  {
   "cell_type": "code",
   "execution_count": null,
   "metadata": {
    "colab": {
     "base_uri": "https://localhost:8080/"
    },
    "executionInfo": {
     "elapsed": 472,
     "status": "ok",
     "timestamp": 1611735129552,
     "user": {
      "displayName": "Gerben Beintema",
      "photoUrl": "https://lh3.googleusercontent.com/a-/AOh14GiDB1vo6wnSlIsMMGD0ly3iE5msxIZDp41lVxtVGFU=s64",
      "userId": "17991627602473413087"
     },
     "user_tz": -60
    },
    "id": "1M4aIm0N5iPU",
    "outputId": "c582db3a-74a3-475a-adc6-e079fa0a0456"
   },
   "outputs": [],
   "source": [
    "print(c)"
   ]
  },
  {
   "cell_type": "code",
   "execution_count": null,
   "metadata": {
    "executionInfo": {
     "elapsed": 549,
     "status": "ok",
     "timestamp": 1611735126858,
     "user": {
      "displayName": "Gerben Beintema",
      "photoUrl": "https://lh3.googleusercontent.com/a-/AOh14GiDB1vo6wnSlIsMMGD0ly3iE5msxIZDp41lVxtVGFU=s64",
      "userId": "17991627602473413087"
     },
     "user_tz": -60
    },
    "id": "kHyGFvGy5kUj"
   },
   "outputs": [],
   "source": [
    "c = 2"
   ]
  },
  {
   "cell_type": "markdown",
   "metadata": {
    "id": "nJC0Z43bPp8k"
   },
   "source": [
    "The documentation of any function can be either googled by searching the name or accessed directly by opening the brackets of the function (Google Colab) or pressing `Shift+Tab` if you are using jupyter notebooks."
   ]
  },
  {
   "cell_type": "code",
   "execution_count": 8,
   "metadata": {
    "id": "AKmUjVLXPp8k"
   },
   "outputs": [
    {
     "data": {
      "text/plain": [
       "<function print>"
      ]
     },
     "execution_count": 8,
     "metadata": {},
     "output_type": "execute_result"
    }
   ],
   "source": [
    "print #to check docs open bracket for google colab or press Shift+Tab in jupyter notebooks"
   ]
  },
  {
   "cell_type": "markdown",
   "metadata": {
    "id": "hMUKh4AgRsH4"
   },
   "source": [
    "Or one can print the documentation using:"
   ]
  },
  {
   "cell_type": "code",
   "execution_count": 9,
   "metadata": {
    "colab": {
     "base_uri": "https://localhost:8080/"
    },
    "executionInfo": {
     "elapsed": 522,
     "status": "ok",
     "timestamp": 1611593814087,
     "user": {
      "displayName": "Gerben Beintema",
      "photoUrl": "https://lh3.googleusercontent.com/a-/AOh14GiDB1vo6wnSlIsMMGD0ly3iE5msxIZDp41lVxtVGFU=s64",
      "userId": "17991627602473413087"
     },
     "user_tz": -60
    },
    "id": "84kE-FaYRHm4",
    "outputId": "e3fc0469-ea22-41f6-9adf-249a3b37f745"
   },
   "outputs": [
    {
     "name": "stdout",
     "output_type": "stream",
     "text": [
      "max(iterable, *[, default=obj, key=func]) -> value\n",
      "max(arg1, arg2, *args, *[, key=func]) -> value\n",
      "\n",
      "With a single iterable argument, return its biggest item. The\n",
      "default keyword-only argument specifies an object to return if\n",
      "the provided iterable is empty.\n",
      "With two or more arguments, return the largest argument.\n"
     ]
    }
   ],
   "source": [
    "print(print.__doc__)"
   ]
  },
  {
   "cell_type": "markdown",
   "metadata": {
    "id": "D6OdLNX2Pp8m"
   },
   "source": [
    "### Saving and loading\n",
    "\n",
    "If you are using **google colab** you can save the notebook by\n",
    "\n",
    "* Saving it to your google drive\n",
    "* Downloading it as a .ipynb\n",
    "\n",
    "Loading your notebook can then be done by opening the file from your google drive or uploading it manually. \n",
    "\n",
    "If you are using **jupyter notebooks** you can simpy save and close the file by File -> Close and Halt to securelly end the session.\n",
    "\n",
    "For more details and tips see: https://jupyter-notebook.readthedocs.io/en/stable/notebook.html#notebook-user-interface"
   ]
  },
  {
   "attachments": {
    "image.png": {
     "image/png": "[encoded data removed]"
    }
   },
   "cell_type": "markdown",
   "metadata": {},
   "source": [
    "### Formatting\n",
    "\n",
    "When adding new cells you can chose to add text cell with the markdown format. This allows for simple text formatting. For instance, \n",
    "\n",
    "equations\n",
    "\n",
    "$$a^2 + b^2 = c^2$$\n",
    "\n",
    "images\n",
    "\n",
    "![image.png](attachment:image.png)\n",
    "\n",
    "* Items\n",
    "1. numbers\n",
    "\n",
    "### Headers"
   ]
  },
  {
   "cell_type": "markdown",
   "metadata": {
    "id": "CqkYcOLnPp8m"
   },
   "source": [
    "### Basics python\n",
    "\n",
    "## 1. Imports"
   ]
  },
  {
   "cell_type": "code",
   "execution_count": 10,
   "metadata": {
    "colab": {
     "base_uri": "https://localhost:8080/"
    },
    "executionInfo": {
     "elapsed": 569,
     "status": "ok",
     "timestamp": 1611735442077,
     "user": {
      "displayName": "Gerben Beintema",
      "photoUrl": "https://lh3.googleusercontent.com/a-/AOh14GiDB1vo6wnSlIsMMGD0ly3iE5msxIZDp41lVxtVGFU=s64",
      "userId": "17991627602473413087"
     },
     "user_tz": -60
    },
    "id": "p-H2AKiOPp8n",
    "outputId": "dd4f61cc-bd19-4a11-9fdb-8a95a490d7bd"
   },
   "outputs": [
    {
     "data": {
      "text/plain": [
       "5.0"
      ]
     },
     "execution_count": 10,
     "metadata": {},
     "output_type": "execute_result"
    }
   ],
   "source": [
    "# 'generic import' of math module\n",
    "import math\n",
    "math.sqrt(25)"
   ]
  },
  {
   "cell_type": "code",
   "execution_count": 14,
   "metadata": {
    "colab": {
     "base_uri": "https://localhost:8080/"
    },
    "executionInfo": {
     "elapsed": 518,
     "status": "ok",
     "timestamp": 1611735454918,
     "user": {
      "displayName": "Gerben Beintema",
      "photoUrl": "https://lh3.googleusercontent.com/a-/AOh14GiDB1vo6wnSlIsMMGD0ly3iE5msxIZDp41lVxtVGFU=s64",
      "userId": "17991627602473413087"
     },
     "user_tz": -60
    },
    "id": "2gHN0ChaPp8p",
    "outputId": "9b198850-6133-4d6d-a959-a73d43a613a5"
   },
   "outputs": [
    {
     "data": {
      "text/plain": [
       "5.0"
      ]
     },
     "execution_count": 14,
     "metadata": {},
     "output_type": "execute_result"
    }
   ],
   "source": [
    "# import a function\n",
    "from math import sqrt\n",
    "sqrt(25)    # no longer have to reference the module"
   ]
  },
  {
   "cell_type": "code",
   "execution_count": 15,
   "metadata": {
    "id": "18pg_5rLPp8r"
   },
   "outputs": [],
   "source": [
    "# import multiple functions at once\n",
    "from math import cos, floor"
   ]
  },
  {
   "cell_type": "code",
   "execution_count": 16,
   "metadata": {
    "id": "LJPIdlLxPp8s"
   },
   "outputs": [],
   "source": [
    "# import all functions in a module (generally discouraged)\n",
    "from csv import *"
   ]
  },
  {
   "cell_type": "code",
   "execution_count": 17,
   "metadata": {
    "id": "rnkMX6_bPp8u"
   },
   "outputs": [],
   "source": [
    "# define an alias\n",
    "import datetime as dt"
   ]
  },
  {
   "cell_type": "code",
   "execution_count": 18,
   "metadata": {
    "colab": {
     "base_uri": "https://localhost:8080/"
    },
    "executionInfo": {
     "elapsed": 687,
     "status": "ok",
     "timestamp": 1611735677987,
     "user": {
      "displayName": "Gerben Beintema",
      "photoUrl": "https://lh3.googleusercontent.com/a-/AOh14GiDB1vo6wnSlIsMMGD0ly3iE5msxIZDp41lVxtVGFU=s64",
      "userId": "17991627602473413087"
     },
     "user_tz": -60
    },
    "id": "LVEeBKnLPp8w",
    "outputId": "e0a42a5c-05f7-4017-b882-1717558f7ec0"
   },
   "outputs": [
    {
     "name": "stdout",
     "output_type": "stream",
     "text": [
      "['__doc__', '__loader__', '__name__', '__package__', '__spec__', 'acos', 'acosh', 'asin', 'asinh', 'atan', 'atan2', 'atanh', 'ceil', 'copysign', 'cos', 'cosh', 'degrees', 'e', 'erf', 'erfc', 'exp', 'expm1', 'fabs', 'factorial', 'floor', 'fmod', 'frexp', 'fsum', 'gamma', 'gcd', 'hypot', 'inf', 'isclose', 'isfinite', 'isinf', 'isnan', 'ldexp', 'lgamma', 'log', 'log10', 'log1p', 'log2', 'modf', 'nan', 'pi', 'pow', 'radians', 'remainder', 'sin', 'sinh', 'sqrt', 'tan', 'tanh', 'tau', 'trunc']\n"
     ]
    }
   ],
   "source": [
    "# show all functions in math module\n",
    "print(dir(math))"
   ]
  },
  {
   "cell_type": "markdown",
   "metadata": {
    "id": "zBgohmMgPp8z"
   },
   "source": [
    "[<a href=\"#Python-Quickstart-Tutorial\">Back to top</a>]"
   ]
  },
  {
   "cell_type": "markdown",
   "metadata": {
    "id": "rW_ozy8fPp8z"
   },
   "source": [
    "## 2. Math"
   ]
  },
  {
   "cell_type": "code",
   "execution_count": 19,
   "metadata": {
    "colab": {
     "base_uri": "https://localhost:8080/"
    },
    "executionInfo": {
     "elapsed": 417,
     "status": "ok",
     "timestamp": 1611735689615,
     "user": {
      "displayName": "Gerben Beintema",
      "photoUrl": "https://lh3.googleusercontent.com/a-/AOh14GiDB1vo6wnSlIsMMGD0ly3iE5msxIZDp41lVxtVGFU=s64",
      "userId": "17991627602473413087"
     },
     "user_tz": -60
    },
    "id": "_isJM3-APp80",
    "outputId": "ef815efd-b3d5-4b27-849e-cf4ed84c46ad"
   },
   "outputs": [
    {
     "data": {
      "text/plain": [
       "14"
      ]
     },
     "execution_count": 19,
     "metadata": {},
     "output_type": "execute_result"
    }
   ],
   "source": [
    "10 + 4"
   ]
  },
  {
   "cell_type": "code",
   "execution_count": 20,
   "metadata": {
    "colab": {
     "base_uri": "https://localhost:8080/"
    },
    "executionInfo": {
     "elapsed": 648,
     "status": "ok",
     "timestamp": 1611735689850,
     "user": {
      "displayName": "Gerben Beintema",
      "photoUrl": "https://lh3.googleusercontent.com/a-/AOh14GiDB1vo6wnSlIsMMGD0ly3iE5msxIZDp41lVxtVGFU=s64",
      "userId": "17991627602473413087"
     },
     "user_tz": -60
    },
    "id": "xVvsbTkdPp81",
    "outputId": "9259330e-3421-4ebb-ea03-0ee469ed3460"
   },
   "outputs": [
    {
     "data": {
      "text/plain": [
       "6"
      ]
     },
     "execution_count": 20,
     "metadata": {},
     "output_type": "execute_result"
    }
   ],
   "source": [
    "10 - 4"
   ]
  },
  {
   "cell_type": "code",
   "execution_count": 21,
   "metadata": {
    "colab": {
     "base_uri": "https://localhost:8080/"
    },
    "executionInfo": {
     "elapsed": 648,
     "status": "ok",
     "timestamp": 1611735689851,
     "user": {
      "displayName": "Gerben Beintema",
      "photoUrl": "https://lh3.googleusercontent.com/a-/AOh14GiDB1vo6wnSlIsMMGD0ly3iE5msxIZDp41lVxtVGFU=s64",
      "userId": "17991627602473413087"
     },
     "user_tz": -60
    },
    "id": "YVopRXOkPp83",
    "outputId": "66f8df8a-d8b3-490d-bf12-a73c66771660"
   },
   "outputs": [
    {
     "data": {
      "text/plain": [
       "40"
      ]
     },
     "execution_count": 21,
     "metadata": {},
     "output_type": "execute_result"
    }
   ],
   "source": [
    "10 * 4"
   ]
  },
  {
   "cell_type": "code",
   "execution_count": 22,
   "metadata": {
    "colab": {
     "base_uri": "https://localhost:8080/"
    },
    "executionInfo": {
     "elapsed": 646,
     "status": "ok",
     "timestamp": 1611735689851,
     "user": {
      "displayName": "Gerben Beintema",
      "photoUrl": "https://lh3.googleusercontent.com/a-/AOh14GiDB1vo6wnSlIsMMGD0ly3iE5msxIZDp41lVxtVGFU=s64",
      "userId": "17991627602473413087"
     },
     "user_tz": -60
    },
    "id": "JqENWpUKPp84",
    "outputId": "749ecce7-b92f-495c-94b7-09dee2276f3d"
   },
   "outputs": [
    {
     "data": {
      "text/plain": [
       "10000"
      ]
     },
     "execution_count": 22,
     "metadata": {},
     "output_type": "execute_result"
    }
   ],
   "source": [
    "10 ** 4    # exponent"
   ]
  },
  {
   "cell_type": "code",
   "execution_count": 23,
   "metadata": {},
   "outputs": [
    {
     "data": {
      "text/plain": [
       "3.1622776601683795"
      ]
     },
     "execution_count": 23,
     "metadata": {},
     "output_type": "execute_result"
    }
   ],
   "source": [
    "10 ** 0.5  # sqrt"
   ]
  },
  {
   "cell_type": "code",
   "execution_count": 24,
   "metadata": {
    "colab": {
     "base_uri": "https://localhost:8080/"
    },
    "executionInfo": {
     "elapsed": 646,
     "status": "ok",
     "timestamp": 1611735689852,
     "user": {
      "displayName": "Gerben Beintema",
      "photoUrl": "https://lh3.googleusercontent.com/a-/AOh14GiDB1vo6wnSlIsMMGD0ly3iE5msxIZDp41lVxtVGFU=s64",
      "userId": "17991627602473413087"
     },
     "user_tz": -60
    },
    "id": "pu7iy9LePp86",
    "outputId": "27b0d0e7-f2aa-4498-f184-f8890df7d8f2"
   },
   "outputs": [
    {
     "data": {
      "text/plain": [
       "1"
      ]
     },
     "execution_count": 24,
     "metadata": {},
     "output_type": "execute_result"
    }
   ],
   "source": [
    "5 % 4      # modulo - computes the remainder"
   ]
  },
  {
   "cell_type": "code",
   "execution_count": 25,
   "metadata": {
    "colab": {
     "base_uri": "https://localhost:8080/"
    },
    "executionInfo": {
     "elapsed": 645,
     "status": "ok",
     "timestamp": 1611735689853,
     "user": {
      "displayName": "Gerben Beintema",
      "photoUrl": "https://lh3.googleusercontent.com/a-/AOh14GiDB1vo6wnSlIsMMGD0ly3iE5msxIZDp41lVxtVGFU=s64",
      "userId": "17991627602473413087"
     },
     "user_tz": -60
    },
    "id": "kOVrgNHKPp9B",
    "outputId": "9d451676-d69b-4532-89d4-5464969c0199"
   },
   "outputs": [
    {
     "data": {
      "text/plain": [
       "2.5"
      ]
     },
     "execution_count": 25,
     "metadata": {},
     "output_type": "execute_result"
    }
   ],
   "source": [
    "10 / 4     # true division"
   ]
  },
  {
   "cell_type": "code",
   "execution_count": 26,
   "metadata": {
    "colab": {
     "base_uri": "https://localhost:8080/"
    },
    "executionInfo": {
     "elapsed": 549,
     "status": "ok",
     "timestamp": 1611735814160,
     "user": {
      "displayName": "Gerben Beintema",
      "photoUrl": "https://lh3.googleusercontent.com/a-/AOh14GiDB1vo6wnSlIsMMGD0ly3iE5msxIZDp41lVxtVGFU=s64",
      "userId": "17991627602473413087"
     },
     "user_tz": -60
    },
    "id": "dL1bqRad8E8Z",
    "outputId": "97036b4e-df6d-431b-e3a7-c73bcfbbbfd5"
   },
   "outputs": [
    {
     "data": {
      "text/plain": [
       "-1"
      ]
     },
     "execution_count": 26,
     "metadata": {},
     "output_type": "execute_result"
    }
   ],
   "source": [
    "int('1') - int('2') #strings to integers"
   ]
  },
  {
   "cell_type": "markdown",
   "metadata": {
    "id": "jFlvoZZkPp9E"
   },
   "source": [
    "[<a href=\"#Python-Quickstart-Tutorial\">Back to top</a>]"
   ]
  },
  {
   "cell_type": "markdown",
   "metadata": {
    "id": "JrA2vRrxPp9E"
   },
   "source": [
    "## 3. Comparisons and Boolean Operations"
   ]
  },
  {
   "cell_type": "markdown",
   "metadata": {
    "id": "_HYsQYyGPp9F"
   },
   "source": [
    "**Assignment statement:**"
   ]
  },
  {
   "cell_type": "code",
   "execution_count": 27,
   "metadata": {
    "id": "yuCnfS0mPp9G"
   },
   "outputs": [],
   "source": [
    "x = 5"
   ]
  },
  {
   "cell_type": "markdown",
   "metadata": {
    "id": "m9ANqBsKPp9H"
   },
   "source": [
    "**Comparisons:**"
   ]
  },
  {
   "cell_type": "code",
   "execution_count": 28,
   "metadata": {
    "id": "TGdpdhUcPp9I"
   },
   "outputs": [
    {
     "data": {
      "text/plain": [
       "True"
      ]
     },
     "execution_count": 28,
     "metadata": {},
     "output_type": "execute_result"
    }
   ],
   "source": [
    "x > 3"
   ]
  },
  {
   "cell_type": "code",
   "execution_count": 29,
   "metadata": {
    "id": "GkKbGuVtPp9K"
   },
   "outputs": [
    {
     "data": {
      "text/plain": [
       "True"
      ]
     },
     "execution_count": 29,
     "metadata": {},
     "output_type": "execute_result"
    }
   ],
   "source": [
    "x >= 3"
   ]
  },
  {
   "cell_type": "code",
   "execution_count": 30,
   "metadata": {
    "id": "rF8Y-ypCPp9M"
   },
   "outputs": [
    {
     "data": {
      "text/plain": [
       "True"
      ]
     },
     "execution_count": 30,
     "metadata": {},
     "output_type": "execute_result"
    }
   ],
   "source": [
    "x != 3"
   ]
  },
  {
   "cell_type": "code",
   "execution_count": 31,
   "metadata": {
    "id": "RaGLycB7Pp9N"
   },
   "outputs": [
    {
     "data": {
      "text/plain": [
       "True"
      ]
     },
     "execution_count": 31,
     "metadata": {},
     "output_type": "execute_result"
    }
   ],
   "source": [
    "x == 5"
   ]
  },
  {
   "cell_type": "markdown",
   "metadata": {
    "id": "fpwsbAhPPp9O"
   },
   "source": [
    "**Boolean operations:**"
   ]
  },
  {
   "cell_type": "code",
   "execution_count": 32,
   "metadata": {
    "id": "MRCR63ngPp9P"
   },
   "outputs": [
    {
     "data": {
      "text/plain": [
       "True"
      ]
     },
     "execution_count": 32,
     "metadata": {},
     "output_type": "execute_result"
    }
   ],
   "source": [
    "5 > 3 and 6 > 3"
   ]
  },
  {
   "cell_type": "code",
   "execution_count": 33,
   "metadata": {
    "id": "cCB0PhGKPp9Q"
   },
   "outputs": [
    {
     "data": {
      "text/plain": [
       "True"
      ]
     },
     "execution_count": 33,
     "metadata": {},
     "output_type": "execute_result"
    }
   ],
   "source": [
    "5 > 3 or 5 < 3"
   ]
  },
  {
   "cell_type": "code",
   "execution_count": 34,
   "metadata": {
    "id": "8sEvFPWDPp9S"
   },
   "outputs": [
    {
     "data": {
      "text/plain": [
       "True"
      ]
     },
     "execution_count": 34,
     "metadata": {},
     "output_type": "execute_result"
    }
   ],
   "source": [
    "not False"
   ]
  },
  {
   "cell_type": "code",
   "execution_count": 35,
   "metadata": {
    "id": "1387_2anPp9T"
   },
   "outputs": [
    {
     "data": {
      "text/plain": [
       "True"
      ]
     },
     "execution_count": 35,
     "metadata": {},
     "output_type": "execute_result"
    }
   ],
   "source": [
    "False or not False and True     # evaluation order: not, and, or"
   ]
  },
  {
   "cell_type": "markdown",
   "metadata": {
    "id": "wytB-2nqPp9V"
   },
   "source": [
    "[<a href=\"#Python-Quickstart-Tutorial\">Back to top</a>]"
   ]
  },
  {
   "cell_type": "markdown",
   "metadata": {
    "id": "d4BhHhNgPp9V"
   },
   "source": [
    "## 4. Conditional Statements"
   ]
  },
  {
   "cell_type": "code",
   "execution_count": 36,
   "metadata": {
    "colab": {
     "base_uri": "https://localhost:8080/"
    },
    "executionInfo": {
     "elapsed": 542,
     "status": "ok",
     "timestamp": 1611735880805,
     "user": {
      "displayName": "Gerben Beintema",
      "photoUrl": "https://lh3.googleusercontent.com/a-/AOh14GiDB1vo6wnSlIsMMGD0ly3iE5msxIZDp41lVxtVGFU=s64",
      "userId": "17991627602473413087"
     },
     "user_tz": -60
    },
    "id": "U3rVpCPIPp9V",
    "outputId": "56f2d570-6a55-4267-ed8d-2fb13d76e845"
   },
   "outputs": [
    {
     "name": "stdout",
     "output_type": "stream",
     "text": [
      "positive\n"
     ]
    }
   ],
   "source": [
    "x = 1\n",
    "# if statement\n",
    "if x > 0:\n",
    "    print('positive')"
   ]
  },
  {
   "cell_type": "code",
   "execution_count": 37,
   "metadata": {
    "id": "IPr8hiNnPp9X"
   },
   "outputs": [
    {
     "name": "stdout",
     "output_type": "stream",
     "text": [
      "positive\n"
     ]
    }
   ],
   "source": [
    "# if/else statement\n",
    "if x > 0:\n",
    "    print('positive')\n",
    "else:\n",
    "    print('zero or negative')"
   ]
  },
  {
   "cell_type": "code",
   "execution_count": 38,
   "metadata": {
    "id": "j1Rpe2_MPp9Y"
   },
   "outputs": [
    {
     "name": "stdout",
     "output_type": "stream",
     "text": [
      "positive\n"
     ]
    }
   ],
   "source": [
    "# if/elif/else statement\n",
    "if x > 0:\n",
    "    print('positive')\n",
    "elif x == 0:\n",
    "    print('zero')\n",
    "else:\n",
    "    print('negative')"
   ]
  },
  {
   "cell_type": "code",
   "execution_count": 39,
   "metadata": {
    "id": "B4musvsrPp9a"
   },
   "outputs": [
    {
     "name": "stdout",
     "output_type": "stream",
     "text": [
      "positive\n"
     ]
    }
   ],
   "source": [
    "# single-line if statement (sometimes discouraged)\n",
    "if x > 0: print('positive')"
   ]
  },
  {
   "cell_type": "code",
   "execution_count": 40,
   "metadata": {
    "id": "pHtsf8byPp9d"
   },
   "outputs": [
    {
     "data": {
      "text/plain": [
       "'positive'"
      ]
     },
     "execution_count": 40,
     "metadata": {},
     "output_type": "execute_result"
    }
   ],
   "source": [
    "# single-line if/else statement (sometimes discouraged), known as a 'ternary operator'\n",
    "'positive' if x > 0 else 'zero or negative'"
   ]
  },
  {
   "cell_type": "markdown",
   "metadata": {
    "id": "VHVa2wqTPp9e"
   },
   "source": [
    "[<a href=\"#Python-Quickstart-Tutorial\">Back to top</a>]"
   ]
  },
  {
   "cell_type": "markdown",
   "metadata": {
    "id": "s0DdlaDWPp9f"
   },
   "source": [
    "## 5. Lists\n",
    "\n",
    "- **List properties:** ordered, iterable, mutable, can contain multiple data types"
   ]
  },
  {
   "cell_type": "code",
   "execution_count": 43,
   "metadata": {
    "executionInfo": {
     "elapsed": 479,
     "status": "ok",
     "timestamp": 1611735947507,
     "user": {
      "displayName": "Gerben Beintema",
      "photoUrl": "https://lh3.googleusercontent.com/a-/AOh14GiDB1vo6wnSlIsMMGD0ly3iE5msxIZDp41lVxtVGFU=s64",
      "userId": "17991627602473413087"
     },
     "user_tz": -60
    },
    "id": "mbNb5XTDPp9f"
   },
   "outputs": [],
   "source": [
    "# create an empty list (two ways)\n",
    "empty_list = []\n",
    "empty_list = list()"
   ]
  },
  {
   "cell_type": "code",
   "execution_count": 44,
   "metadata": {
    "executionInfo": {
     "elapsed": 497,
     "status": "ok",
     "timestamp": 1611735959520,
     "user": {
      "displayName": "Gerben Beintema",
      "photoUrl": "https://lh3.googleusercontent.com/a-/AOh14GiDB1vo6wnSlIsMMGD0ly3iE5msxIZDp41lVxtVGFU=s64",
      "userId": "17991627602473413087"
     },
     "user_tz": -60
    },
    "id": "_jDhnLmnPp9h"
   },
   "outputs": [],
   "source": [
    "# create a list\n",
    "simpsons = ['homer', 'marge', 'bart']"
   ]
  },
  {
   "cell_type": "markdown",
   "metadata": {
    "id": "HxDAwji2Pp9j"
   },
   "source": [
    "**Examine a list:**"
   ]
  },
  {
   "cell_type": "code",
   "execution_count": 45,
   "metadata": {
    "colab": {
     "base_uri": "https://localhost:8080/",
     "height": 35
    },
    "executionInfo": {
     "elapsed": 487,
     "status": "ok",
     "timestamp": 1611735980610,
     "user": {
      "displayName": "Gerben Beintema",
      "photoUrl": "https://lh3.googleusercontent.com/a-/AOh14GiDB1vo6wnSlIsMMGD0ly3iE5msxIZDp41lVxtVGFU=s64",
      "userId": "17991627602473413087"
     },
     "user_tz": -60
    },
    "id": "e_6sRRu8Pp9j",
    "outputId": "cd65a09f-f11b-4727-a956-82fb19840cef"
   },
   "outputs": [
    {
     "data": {
      "text/plain": [
       "'homer'"
      ]
     },
     "execution_count": 45,
     "metadata": {},
     "output_type": "execute_result"
    }
   ],
   "source": [
    "# print element 0\n",
    "simpsons[0]"
   ]
  },
  {
   "cell_type": "code",
   "execution_count": 46,
   "metadata": {
    "colab": {
     "base_uri": "https://localhost:8080/"
    },
    "executionInfo": {
     "elapsed": 544,
     "status": "ok",
     "timestamp": 1611735993164,
     "user": {
      "displayName": "Gerben Beintema",
      "photoUrl": "https://lh3.googleusercontent.com/a-/AOh14GiDB1vo6wnSlIsMMGD0ly3iE5msxIZDp41lVxtVGFU=s64",
      "userId": "17991627602473413087"
     },
     "user_tz": -60
    },
    "id": "hO9_na5ZPp9k",
    "outputId": "2c4b647a-275c-4b0f-85d2-2b087272536b"
   },
   "outputs": [
    {
     "data": {
      "text/plain": [
       "3"
      ]
     },
     "execution_count": 46,
     "metadata": {},
     "output_type": "execute_result"
    }
   ],
   "source": [
    "len(simpsons)"
   ]
  },
  {
   "cell_type": "markdown",
   "metadata": {
    "id": "f9nngfa1Pp9m"
   },
   "source": [
    "**Modify a list (does not return the list):**"
   ]
  },
  {
   "cell_type": "code",
   "execution_count": 47,
   "metadata": {
    "id": "bvN5D6msPp9n"
   },
   "outputs": [
    {
     "data": {
      "text/plain": [
       "['homer', 'marge', 'bart', 'lisa']"
      ]
     },
     "execution_count": 47,
     "metadata": {},
     "output_type": "execute_result"
    }
   ],
   "source": [
    "# append element to end\n",
    "simpsons.append('lisa')\n",
    "simpsons"
   ]
  },
  {
   "cell_type": "code",
   "execution_count": 48,
   "metadata": {
    "id": "fkwaq2PLPp9p"
   },
   "outputs": [
    {
     "data": {
      "text/plain": [
       "['homer', 'marge', 'bart', 'lisa', 'itchy', 'scratchy']"
      ]
     },
     "execution_count": 48,
     "metadata": {},
     "output_type": "execute_result"
    }
   ],
   "source": [
    "# append multiple elements to end\n",
    "simpsons.extend(['itchy', 'scratchy'])\n",
    "simpsons"
   ]
  },
  {
   "cell_type": "code",
   "execution_count": 49,
   "metadata": {
    "id": "WigvuX_uPp9q"
   },
   "outputs": [
    {
     "data": {
      "text/plain": [
       "['maggie', 'homer', 'marge', 'bart', 'lisa', 'itchy', 'scratchy']"
      ]
     },
     "execution_count": 49,
     "metadata": {},
     "output_type": "execute_result"
    }
   ],
   "source": [
    "# insert element at index 0 (shifts everything right)\n",
    "simpsons.insert(0, 'maggie')\n",
    "simpsons"
   ]
  },
  {
   "cell_type": "code",
   "execution_count": 50,
   "metadata": {
    "id": "eVlKr2X4Pp9s"
   },
   "outputs": [
    {
     "data": {
      "text/plain": [
       "['maggie', 'homer', 'marge', 'lisa', 'itchy', 'scratchy']"
      ]
     },
     "execution_count": 50,
     "metadata": {},
     "output_type": "execute_result"
    }
   ],
   "source": [
    "# search for first instance and remove it\n",
    "simpsons.remove('bart')\n",
    "simpsons"
   ]
  },
  {
   "cell_type": "code",
   "execution_count": 51,
   "metadata": {
    "id": "RlpflP31Pp9u"
   },
   "outputs": [
    {
     "data": {
      "text/plain": [
       "'maggie'"
      ]
     },
     "execution_count": 51,
     "metadata": {},
     "output_type": "execute_result"
    }
   ],
   "source": [
    "# remove element 0 and return it\n",
    "simpsons.pop(0)"
   ]
  },
  {
   "cell_type": "code",
   "execution_count": 52,
   "metadata": {
    "id": "Mc78fiQEPp9v"
   },
   "outputs": [
    {
     "data": {
      "text/plain": [
       "['marge', 'lisa', 'itchy', 'scratchy']"
      ]
     },
     "execution_count": 52,
     "metadata": {},
     "output_type": "execute_result"
    }
   ],
   "source": [
    "# remove element 0 (does not return it)\n",
    "del simpsons[0]\n",
    "simpsons"
   ]
  },
  {
   "cell_type": "code",
   "execution_count": 53,
   "metadata": {
    "id": "jHcqe1YQPp9w"
   },
   "outputs": [
    {
     "data": {
      "text/plain": [
       "['krusty', 'lisa', 'itchy', 'scratchy']"
      ]
     },
     "execution_count": 53,
     "metadata": {},
     "output_type": "execute_result"
    }
   ],
   "source": [
    "# replace element 0\n",
    "simpsons[0] = 'krusty'\n",
    "simpsons"
   ]
  },
  {
   "cell_type": "code",
   "execution_count": 54,
   "metadata": {
    "id": "bKfKSriUPp9x"
   },
   "outputs": [
    {
     "data": {
      "text/plain": [
       "['krusty', 'lisa', 'itchy', 'scratchy', 'ned', 'rod', 'todd']"
      ]
     },
     "execution_count": 54,
     "metadata": {},
     "output_type": "execute_result"
    }
   ],
   "source": [
    "# concatenate lists (slower than 'extend' method)\n",
    "neighbors = simpsons + ['ned', 'rod', 'todd']\n",
    "neighbors"
   ]
  },
  {
   "cell_type": "markdown",
   "metadata": {
    "id": "K0o0MaeQPp93"
   },
   "source": [
    "**List slicing:**"
   ]
  },
  {
   "cell_type": "code",
   "execution_count": 55,
   "metadata": {
    "executionInfo": {
     "elapsed": 607,
     "status": "ok",
     "timestamp": 1611736059391,
     "user": {
      "displayName": "Gerben Beintema",
      "photoUrl": "https://lh3.googleusercontent.com/a-/AOh14GiDB1vo6wnSlIsMMGD0ly3iE5msxIZDp41lVxtVGFU=s64",
      "userId": "17991627602473413087"
     },
     "user_tz": -60
    },
    "id": "m9xRhhQJPp94"
   },
   "outputs": [],
   "source": [
    "weekdays = ['mon', 'tues', 'wed', 'thurs', 'fri']"
   ]
  },
  {
   "cell_type": "code",
   "execution_count": 56,
   "metadata": {
    "colab": {
     "base_uri": "https://localhost:8080/",
     "height": 35
    },
    "executionInfo": {
     "elapsed": 430,
     "status": "ok",
     "timestamp": 1611736059392,
     "user": {
      "displayName": "Gerben Beintema",
      "photoUrl": "https://lh3.googleusercontent.com/a-/AOh14GiDB1vo6wnSlIsMMGD0ly3iE5msxIZDp41lVxtVGFU=s64",
      "userId": "17991627602473413087"
     },
     "user_tz": -60
    },
    "id": "epHaa4M-Pp96",
    "outputId": "91b8c295-3055-4932-cbbd-9a8f156651a5"
   },
   "outputs": [
    {
     "data": {
      "text/plain": [
       "'mon'"
      ]
     },
     "execution_count": 56,
     "metadata": {},
     "output_type": "execute_result"
    }
   ],
   "source": [
    "# element 0\n",
    "weekdays[0]"
   ]
  },
  {
   "cell_type": "code",
   "execution_count": 57,
   "metadata": {
    "colab": {
     "base_uri": "https://localhost:8080/"
    },
    "executionInfo": {
     "elapsed": 807,
     "status": "ok",
     "timestamp": 1611736060095,
     "user": {
      "displayName": "Gerben Beintema",
      "photoUrl": "https://lh3.googleusercontent.com/a-/AOh14GiDB1vo6wnSlIsMMGD0ly3iE5msxIZDp41lVxtVGFU=s64",
      "userId": "17991627602473413087"
     },
     "user_tz": -60
    },
    "id": "ykhuqbKWPp99",
    "outputId": "c1a47932-e2c0-4b37-8782-a1b9420aa1b0"
   },
   "outputs": [
    {
     "data": {
      "text/plain": [
       "['mon', 'tues', 'wed']"
      ]
     },
     "execution_count": 57,
     "metadata": {},
     "output_type": "execute_result"
    }
   ],
   "source": [
    "# elements 0 (inclusive) to 3 (exclusive)\n",
    "weekdays[0:3]"
   ]
  },
  {
   "cell_type": "code",
   "execution_count": 59,
   "metadata": {
    "colab": {
     "base_uri": "https://localhost:8080/"
    },
    "executionInfo": {
     "elapsed": 543,
     "status": "ok",
     "timestamp": 1611736079380,
     "user": {
      "displayName": "Gerben Beintema",
      "photoUrl": "https://lh3.googleusercontent.com/a-/AOh14GiDB1vo6wnSlIsMMGD0ly3iE5msxIZDp41lVxtVGFU=s64",
      "userId": "17991627602473413087"
     },
     "user_tz": -60
    },
    "id": "Qcp3PxiLPp9-",
    "outputId": "a2497375-f57c-4ff8-f180-af3adb016ddb"
   },
   "outputs": [
    {
     "data": {
      "text/plain": [
       "['mon', 'tues', 'wed']"
      ]
     },
     "execution_count": 59,
     "metadata": {},
     "output_type": "execute_result"
    }
   ],
   "source": [
    "# starting point is implied to be 0\n",
    "weekdays[:3]"
   ]
  },
  {
   "cell_type": "code",
   "execution_count": 60,
   "metadata": {
    "colab": {
     "base_uri": "https://localhost:8080/"
    },
    "executionInfo": {
     "elapsed": 723,
     "status": "ok",
     "timestamp": 1611736084665,
     "user": {
      "displayName": "Gerben Beintema",
      "photoUrl": "https://lh3.googleusercontent.com/a-/AOh14GiDB1vo6wnSlIsMMGD0ly3iE5msxIZDp41lVxtVGFU=s64",
      "userId": "17991627602473413087"
     },
     "user_tz": -60
    },
    "id": "NxCMh-BgPp9_",
    "outputId": "34fd66d6-740f-488e-db09-4dd183dd27f5"
   },
   "outputs": [
    {
     "data": {
      "text/plain": [
       "['thurs', 'fri']"
      ]
     },
     "execution_count": 60,
     "metadata": {},
     "output_type": "execute_result"
    }
   ],
   "source": [
    "# elements 3 (inclusive) through the end\n",
    "weekdays[3:]"
   ]
  },
  {
   "cell_type": "code",
   "execution_count": 61,
   "metadata": {
    "colab": {
     "base_uri": "https://localhost:8080/",
     "height": 35
    },
    "executionInfo": {
     "elapsed": 563,
     "status": "ok",
     "timestamp": 1611736093036,
     "user": {
      "displayName": "Gerben Beintema",
      "photoUrl": "https://lh3.googleusercontent.com/a-/AOh14GiDB1vo6wnSlIsMMGD0ly3iE5msxIZDp41lVxtVGFU=s64",
      "userId": "17991627602473413087"
     },
     "user_tz": -60
    },
    "id": "gT_l_5v3Pp-A",
    "outputId": "fcf14395-0ef7-47ca-f1e5-4622a7bc5aa5"
   },
   "outputs": [
    {
     "data": {
      "text/plain": [
       "'fri'"
      ]
     },
     "execution_count": 61,
     "metadata": {},
     "output_type": "execute_result"
    }
   ],
   "source": [
    "# last element\n",
    "weekdays[-1]"
   ]
  },
  {
   "cell_type": "code",
   "execution_count": 62,
   "metadata": {
    "colab": {
     "base_uri": "https://localhost:8080/"
    },
    "executionInfo": {
     "elapsed": 653,
     "status": "ok",
     "timestamp": 1611736104234,
     "user": {
      "displayName": "Gerben Beintema",
      "photoUrl": "https://lh3.googleusercontent.com/a-/AOh14GiDB1vo6wnSlIsMMGD0ly3iE5msxIZDp41lVxtVGFU=s64",
      "userId": "17991627602473413087"
     },
     "user_tz": -60
    },
    "id": "n82wibWGPp-C",
    "outputId": "e15296f7-750c-4473-bda1-1eb976012c92"
   },
   "outputs": [
    {
     "data": {
      "text/plain": [
       "['mon', 'wed', 'fri']"
      ]
     },
     "execution_count": 62,
     "metadata": {},
     "output_type": "execute_result"
    }
   ],
   "source": [
    "# every 2nd element (step by 2)\n",
    "weekdays[::2]"
   ]
  },
  {
   "cell_type": "code",
   "execution_count": 63,
   "metadata": {
    "colab": {
     "base_uri": "https://localhost:8080/"
    },
    "executionInfo": {
     "elapsed": 767,
     "status": "ok",
     "timestamp": 1611736125458,
     "user": {
      "displayName": "Gerben Beintema",
      "photoUrl": "https://lh3.googleusercontent.com/a-/AOh14GiDB1vo6wnSlIsMMGD0ly3iE5msxIZDp41lVxtVGFU=s64",
      "userId": "17991627602473413087"
     },
     "user_tz": -60
    },
    "id": "lJ8MlHmoPp-F",
    "outputId": "327a7498-75d5-42e7-9681-605b3207216a"
   },
   "outputs": [
    {
     "data": {
      "text/plain": [
       "['fri', 'thurs', 'wed', 'tues', 'mon']"
      ]
     },
     "execution_count": 63,
     "metadata": {},
     "output_type": "execute_result"
    }
   ],
   "source": [
    "# backwards (step by -1)\n",
    "weekdays[::-1]"
   ]
  },
  {
   "cell_type": "code",
   "execution_count": 64,
   "metadata": {
    "colab": {
     "base_uri": "https://localhost:8080/"
    },
    "executionInfo": {
     "elapsed": 577,
     "status": "ok",
     "timestamp": 1611736132792,
     "user": {
      "displayName": "Gerben Beintema",
      "photoUrl": "https://lh3.googleusercontent.com/a-/AOh14GiDB1vo6wnSlIsMMGD0ly3iE5msxIZDp41lVxtVGFU=s64",
      "userId": "17991627602473413087"
     },
     "user_tz": -60
    },
    "id": "3enmsNDQPp-G",
    "outputId": "eeae9e5d-1969-47d2-a3ec-5fc53eb585d8"
   },
   "outputs": [
    {
     "data": {
      "text/plain": [
       "['fri', 'thurs', 'wed', 'tues', 'mon']"
      ]
     },
     "execution_count": 64,
     "metadata": {},
     "output_type": "execute_result"
    }
   ],
   "source": [
    "# alternative method for returning the list backwards\n",
    "list(reversed(weekdays))"
   ]
  },
  {
   "cell_type": "markdown",
   "metadata": {
    "id": "keMoqPE6Pp-I"
   },
   "source": [
    "**Sort a list in place (modifies but does not return the list):**"
   ]
  },
  {
   "cell_type": "code",
   "execution_count": 65,
   "metadata": {
    "id": "kxs2BRHpPp-I"
   },
   "outputs": [
    {
     "data": {
      "text/plain": [
       "['bart', 'homer', 'marge']"
      ]
     },
     "execution_count": 65,
     "metadata": {},
     "output_type": "execute_result"
    }
   ],
   "source": [
    "simpsons = ['homer', 'marge', 'bart']\n",
    "simpsons.sort()\n",
    "simpsons"
   ]
  },
  {
   "cell_type": "code",
   "execution_count": 66,
   "metadata": {
    "id": "XgGRZRW5Pp-J"
   },
   "outputs": [
    {
     "data": {
      "text/plain": [
       "['marge', 'homer', 'bart']"
      ]
     },
     "execution_count": 66,
     "metadata": {},
     "output_type": "execute_result"
    }
   ],
   "source": [
    "# sort in reverse\n",
    "simpsons.sort(reverse=True)\n",
    "simpsons"
   ]
  },
  {
   "cell_type": "code",
   "execution_count": 67,
   "metadata": {
    "id": "fCgaNwsfPp-L"
   },
   "outputs": [
    {
     "data": {
      "text/plain": [
       "['bart', 'marge', 'homer']"
      ]
     },
     "execution_count": 67,
     "metadata": {},
     "output_type": "execute_result"
    }
   ],
   "source": [
    "# sort by a key\n",
    "simpsons.sort(key=len)\n",
    "simpsons"
   ]
  },
  {
   "cell_type": "markdown",
   "metadata": {
    "id": "fkYwOkZTPp-M"
   },
   "source": [
    "**Return a sorted list (does not modify the original list):**"
   ]
  },
  {
   "cell_type": "code",
   "execution_count": 68,
   "metadata": {
    "id": "XEFNJQZxPp-N"
   },
   "outputs": [
    {
     "data": {
      "text/plain": [
       "['bart', 'homer', 'marge']"
      ]
     },
     "execution_count": 68,
     "metadata": {},
     "output_type": "execute_result"
    }
   ],
   "source": [
    "sorted(simpsons)"
   ]
  },
  {
   "cell_type": "code",
   "execution_count": 69,
   "metadata": {
    "id": "9RpvPycjPp-O"
   },
   "outputs": [
    {
     "data": {
      "text/plain": [
       "['marge', 'homer', 'bart']"
      ]
     },
     "execution_count": 69,
     "metadata": {},
     "output_type": "execute_result"
    }
   ],
   "source": [
    "sorted(simpsons, reverse=True)"
   ]
  },
  {
   "cell_type": "code",
   "execution_count": 70,
   "metadata": {
    "id": "XFqq8U1IPp-P"
   },
   "outputs": [
    {
     "data": {
      "text/plain": [
       "['bart', 'marge', 'homer']"
      ]
     },
     "execution_count": 70,
     "metadata": {},
     "output_type": "execute_result"
    }
   ],
   "source": [
    "sorted(simpsons, key=len)"
   ]
  },
  {
   "cell_type": "markdown",
   "metadata": {
    "id": "nnvZsACsPp-R"
   },
   "source": [
    "**Object references and copies:**"
   ]
  },
  {
   "cell_type": "code",
   "execution_count": 71,
   "metadata": {
    "executionInfo": {
     "elapsed": 512,
     "status": "ok",
     "timestamp": 1611736358968,
     "user": {
      "displayName": "Gerben Beintema",
      "photoUrl": "https://lh3.googleusercontent.com/a-/AOh14GiDB1vo6wnSlIsMMGD0ly3iE5msxIZDp41lVxtVGFU=s64",
      "userId": "17991627602473413087"
     },
     "user_tz": -60
    },
    "id": "4NhFrul8Pp-S"
   },
   "outputs": [],
   "source": [
    "num = [10,20,30]\n",
    "# create a second reference to the same list\n",
    "same_num = num\n"
   ]
  },
  {
   "cell_type": "code",
   "execution_count": 72,
   "metadata": {
    "colab": {
     "base_uri": "https://localhost:8080/"
    },
    "executionInfo": {
     "elapsed": 477,
     "status": "ok",
     "timestamp": 1611736252034,
     "user": {
      "displayName": "Gerben Beintema",
      "photoUrl": "https://lh3.googleusercontent.com/a-/AOh14GiDB1vo6wnSlIsMMGD0ly3iE5msxIZDp41lVxtVGFU=s64",
      "userId": "17991627602473413087"
     },
     "user_tz": -60
    },
    "id": "Ow-losRHPp-T",
    "outputId": "a34f97ce-0715-4ed4-aab2-9b9f0c839a57"
   },
   "outputs": [
    {
     "name": "stdout",
     "output_type": "stream",
     "text": [
      "[0, 20, 30]\n",
      "[0, 20, 30]\n"
     ]
    }
   ],
   "source": [
    "# modifies both 'num' and 'same_num'\n",
    "same_num[0] = 0\n",
    "print(num)\n",
    "print(same_num)"
   ]
  },
  {
   "cell_type": "code",
   "execution_count": 73,
   "metadata": {
    "executionInfo": {
     "elapsed": 485,
     "status": "ok",
     "timestamp": 1611736324161,
     "user": {
      "displayName": "Gerben Beintema",
      "photoUrl": "https://lh3.googleusercontent.com/a-/AOh14GiDB1vo6wnSlIsMMGD0ly3iE5msxIZDp41lVxtVGFU=s64",
      "userId": "17991627602473413087"
     },
     "user_tz": -60
    },
    "id": "PVivCxILPp-V"
   },
   "outputs": [],
   "source": [
    "# copy a list (two ways)\n",
    "new_num = num[:]\n",
    "new_num = list(num)"
   ]
  },
  {
   "cell_type": "markdown",
   "metadata": {
    "id": "YK0f2tH0Pp-W"
   },
   "source": [
    "**Examine objects:**"
   ]
  },
  {
   "cell_type": "code",
   "execution_count": 74,
   "metadata": {
    "id": "md7r0ji1Pp-W"
   },
   "outputs": [
    {
     "data": {
      "text/plain": [
       "True"
      ]
     },
     "execution_count": 74,
     "metadata": {},
     "output_type": "execute_result"
    }
   ],
   "source": [
    "num is same_num    # checks whether they are the same object"
   ]
  },
  {
   "cell_type": "code",
   "execution_count": 75,
   "metadata": {
    "id": "wJT6vk9sPp-X"
   },
   "outputs": [
    {
     "data": {
      "text/plain": [
       "False"
      ]
     },
     "execution_count": 75,
     "metadata": {},
     "output_type": "execute_result"
    }
   ],
   "source": [
    "num is new_num"
   ]
  },
  {
   "cell_type": "code",
   "execution_count": 76,
   "metadata": {
    "id": "I71onaScPp-Z"
   },
   "outputs": [
    {
     "data": {
      "text/plain": [
       "True"
      ]
     },
     "execution_count": 76,
     "metadata": {},
     "output_type": "execute_result"
    }
   ],
   "source": [
    "num == same_num    # checks whether they have the same contents"
   ]
  },
  {
   "cell_type": "code",
   "execution_count": 77,
   "metadata": {
    "id": "AOKhGQqiPp-a"
   },
   "outputs": [
    {
     "data": {
      "text/plain": [
       "True"
      ]
     },
     "execution_count": 77,
     "metadata": {},
     "output_type": "execute_result"
    }
   ],
   "source": [
    "num == new_num"
   ]
  },
  {
   "cell_type": "markdown",
   "metadata": {
    "id": "hnEDZy5BPp-a"
   },
   "source": [
    "[<a href=\"#Python-Quickstart-Tutorial\">Back to top</a>]"
   ]
  },
  {
   "cell_type": "markdown",
   "metadata": {
    "id": "VNBFmD22Pp-b"
   },
   "source": [
    "## 6. Defining Functions"
   ]
  },
  {
   "cell_type": "markdown",
   "metadata": {
    "id": "SjJeP850Pp-b"
   },
   "source": [
    "**Define a function with no arguments and no return values:**"
   ]
  },
  {
   "cell_type": "code",
   "execution_count": 78,
   "metadata": {
    "executionInfo": {
     "elapsed": 810,
     "status": "ok",
     "timestamp": 1611736822254,
     "user": {
      "displayName": "Gerben Beintema",
      "photoUrl": "https://lh3.googleusercontent.com/a-/AOh14GiDB1vo6wnSlIsMMGD0ly3iE5msxIZDp41lVxtVGFU=s64",
      "userId": "17991627602473413087"
     },
     "user_tz": -60
    },
    "id": "cI5ykqq5Pp-b"
   },
   "outputs": [],
   "source": [
    "def print_text():\n",
    "    print('this is text')"
   ]
  },
  {
   "cell_type": "code",
   "execution_count": 79,
   "metadata": {
    "colab": {
     "base_uri": "https://localhost:8080/"
    },
    "executionInfo": {
     "elapsed": 547,
     "status": "ok",
     "timestamp": 1611736822255,
     "user": {
      "displayName": "Gerben Beintema",
      "photoUrl": "https://lh3.googleusercontent.com/a-/AOh14GiDB1vo6wnSlIsMMGD0ly3iE5msxIZDp41lVxtVGFU=s64",
      "userId": "17991627602473413087"
     },
     "user_tz": -60
    },
    "id": "AX_AZnlmPp-c",
    "outputId": "25fc3e85-5116-4dc9-d689-e2044e7e0a4f"
   },
   "outputs": [
    {
     "name": "stdout",
     "output_type": "stream",
     "text": [
      "this is text\n"
     ]
    }
   ],
   "source": [
    "# call the function\n",
    "print_text()"
   ]
  },
  {
   "cell_type": "markdown",
   "metadata": {
    "id": "zryUzKYAPp-e"
   },
   "source": [
    "**Define a function with one argument and no return values:**"
   ]
  },
  {
   "cell_type": "code",
   "execution_count": 80,
   "metadata": {
    "executionInfo": {
     "elapsed": 642,
     "status": "ok",
     "timestamp": 1611736829355,
     "user": {
      "displayName": "Gerben Beintema",
      "photoUrl": "https://lh3.googleusercontent.com/a-/AOh14GiDB1vo6wnSlIsMMGD0ly3iE5msxIZDp41lVxtVGFU=s64",
      "userId": "17991627602473413087"
     },
     "user_tz": -60
    },
    "id": "VAOWqTkCPp-e"
   },
   "outputs": [],
   "source": [
    "def print_this(x):\n",
    "    print(x)"
   ]
  },
  {
   "cell_type": "code",
   "execution_count": 81,
   "metadata": {
    "colab": {
     "base_uri": "https://localhost:8080/"
    },
    "executionInfo": {
     "elapsed": 387,
     "status": "ok",
     "timestamp": 1611736830185,
     "user": {
      "displayName": "Gerben Beintema",
      "photoUrl": "https://lh3.googleusercontent.com/a-/AOh14GiDB1vo6wnSlIsMMGD0ly3iE5msxIZDp41lVxtVGFU=s64",
      "userId": "17991627602473413087"
     },
     "user_tz": -60
    },
    "id": "eSRZhVoePp-f",
    "outputId": "01432c84-7f38-48fe-fec3-c83243545d05"
   },
   "outputs": [
    {
     "name": "stdout",
     "output_type": "stream",
     "text": [
      "3\n"
     ]
    }
   ],
   "source": [
    "# call the function\n",
    "print_this(3)"
   ]
  },
  {
   "cell_type": "code",
   "execution_count": 82,
   "metadata": {
    "colab": {
     "base_uri": "https://localhost:8080/"
    },
    "executionInfo": {
     "elapsed": 530,
     "status": "ok",
     "timestamp": 1611736832770,
     "user": {
      "displayName": "Gerben Beintema",
      "photoUrl": "https://lh3.googleusercontent.com/a-/AOh14GiDB1vo6wnSlIsMMGD0ly3iE5msxIZDp41lVxtVGFU=s64",
      "userId": "17991627602473413087"
     },
     "user_tz": -60
    },
    "id": "CAoWE2EOPp-i",
    "outputId": "192d1e5b-ce22-4a8e-fddb-557fcedb96aa"
   },
   "outputs": [
    {
     "name": "stdout",
     "output_type": "stream",
     "text": [
      "3\n",
      "None\n"
     ]
    }
   ],
   "source": [
    "# prints 3, but doesn't assign 3 to n because the function has no return statement\n",
    "n = print_this(3)\n",
    "print(n)"
   ]
  },
  {
   "cell_type": "markdown",
   "metadata": {
    "id": "DcihcTCbPp-j"
   },
   "source": [
    "**Define a function with one argument and one return value:**"
   ]
  },
  {
   "cell_type": "code",
   "execution_count": 83,
   "metadata": {
    "executionInfo": {
     "elapsed": 456,
     "status": "ok",
     "timestamp": 1611736864324,
     "user": {
      "displayName": "Gerben Beintema",
      "photoUrl": "https://lh3.googleusercontent.com/a-/AOh14GiDB1vo6wnSlIsMMGD0ly3iE5msxIZDp41lVxtVGFU=s64",
      "userId": "17991627602473413087"
     },
     "user_tz": -60
    },
    "id": "hIDDB61yPp-j"
   },
   "outputs": [],
   "source": [
    "def square_this(x):\n",
    "    return x**2 #return will stop evaluation and\n",
    "    print('This is not executed') "
   ]
  },
  {
   "cell_type": "code",
   "execution_count": 84,
   "metadata": {},
   "outputs": [
    {
     "data": {
      "text/plain": [
       "9"
      ]
     },
     "execution_count": 84,
     "metadata": {},
     "output_type": "execute_result"
    }
   ],
   "source": [
    "# call the function\n",
    "square_this(3)"
   ]
  },
  {
   "cell_type": "code",
   "execution_count": 86,
   "metadata": {
    "executionInfo": {
     "elapsed": 522,
     "status": "ok",
     "timestamp": 1611736865397,
     "user": {
      "displayName": "Gerben Beintema",
      "photoUrl": "https://lh3.googleusercontent.com/a-/AOh14GiDB1vo6wnSlIsMMGD0ly3iE5msxIZDp41lVxtVGFU=s64",
      "userId": "17991627602473413087"
     },
     "user_tz": -60
    },
    "id": "hUqauzfLPp-k"
   },
   "outputs": [],
   "source": [
    "# include an optional docstring to describe the effect of a function\n",
    "def square_this(x):\n",
    "    \"\"\"Return the square of a number.\"\"\"\n",
    "    return x**2"
   ]
  },
  {
   "cell_type": "code",
   "execution_count": 87,
   "metadata": {
    "colab": {
     "base_uri": "https://localhost:8080/"
    },
    "executionInfo": {
     "elapsed": 1645,
     "status": "ok",
     "timestamp": 1611736867385,
     "user": {
      "displayName": "Gerben Beintema",
      "photoUrl": "https://lh3.googleusercontent.com/a-/AOh14GiDB1vo6wnSlIsMMGD0ly3iE5msxIZDp41lVxtVGFU=s64",
      "userId": "17991627602473413087"
     },
     "user_tz": -60
    },
    "id": "JAenyAcgPp-l",
    "outputId": "a0bf683b-262b-4d0b-d127-c4bf4768c585"
   },
   "outputs": [
    {
     "data": {
      "text/plain": [
       "9"
      ]
     },
     "execution_count": 87,
     "metadata": {},
     "output_type": "execute_result"
    }
   ],
   "source": [
    "# call the function\n",
    "square_this(3)"
   ]
  },
  {
   "cell_type": "code",
   "execution_count": 88,
   "metadata": {
    "colab": {
     "base_uri": "https://localhost:8080/"
    },
    "executionInfo": {
     "elapsed": 536,
     "status": "ok",
     "timestamp": 1611736877183,
     "user": {
      "displayName": "Gerben Beintema",
      "photoUrl": "https://lh3.googleusercontent.com/a-/AOh14GiDB1vo6wnSlIsMMGD0ly3iE5msxIZDp41lVxtVGFU=s64",
      "userId": "17991627602473413087"
     },
     "user_tz": -60
    },
    "id": "pWTg3C6NPp-m",
    "outputId": "d6872d53-e9b9-432b-8200-f71b2a1e1586"
   },
   "outputs": [
    {
     "data": {
      "text/plain": [
       "9"
      ]
     },
     "execution_count": 88,
     "metadata": {},
     "output_type": "execute_result"
    }
   ],
   "source": [
    "# assigns 9 to var, but does not print 9\n",
    "var = square_this(3)\n",
    "var"
   ]
  },
  {
   "cell_type": "markdown",
   "metadata": {
    "id": "jcPcLqDYPp-n"
   },
   "source": [
    "**Define a function with two 'positional arguments' (no default values) and one 'keyword argument' (has a default value):**\n"
   ]
  },
  {
   "cell_type": "code",
   "execution_count": 89,
   "metadata": {
    "executionInfo": {
     "elapsed": 3536,
     "status": "ok",
     "timestamp": 1611736914657,
     "user": {
      "displayName": "Gerben Beintema",
      "photoUrl": "https://lh3.googleusercontent.com/a-/AOh14GiDB1vo6wnSlIsMMGD0ly3iE5msxIZDp41lVxtVGFU=s64",
      "userId": "17991627602473413087"
     },
     "user_tz": -60
    },
    "id": "uCkukcc9Pp-n"
   },
   "outputs": [],
   "source": [
    "def calc(a, b, op = 'add'):\n",
    "    if op == 'add':\n",
    "        return a + b\n",
    "    elif op == 'sub':\n",
    "        return a - b\n",
    "    else:\n",
    "        print('valid operations are add and sub')"
   ]
  },
  {
   "cell_type": "code",
   "execution_count": 90,
   "metadata": {
    "id": "Xh_YyHrtPp-o"
   },
   "outputs": [
    {
     "data": {
      "text/plain": [
       "14"
      ]
     },
     "execution_count": 90,
     "metadata": {},
     "output_type": "execute_result"
    }
   ],
   "source": [
    "# call the function\n",
    "calc(10, 4, op='add')"
   ]
  },
  {
   "cell_type": "code",
   "execution_count": 91,
   "metadata": {
    "id": "AkxWUndIPp-p"
   },
   "outputs": [
    {
     "data": {
      "text/plain": [
       "14"
      ]
     },
     "execution_count": 91,
     "metadata": {},
     "output_type": "execute_result"
    }
   ],
   "source": [
    "# unnamed arguments are inferred by position\n",
    "calc(10, 4, 'add')"
   ]
  },
  {
   "cell_type": "code",
   "execution_count": 92,
   "metadata": {
    "colab": {
     "base_uri": "https://localhost:8080/"
    },
    "executionInfo": {
     "elapsed": 1819,
     "status": "ok",
     "timestamp": 1611736915190,
     "user": {
      "displayName": "Gerben Beintema",
      "photoUrl": "https://lh3.googleusercontent.com/a-/AOh14GiDB1vo6wnSlIsMMGD0ly3iE5msxIZDp41lVxtVGFU=s64",
      "userId": "17991627602473413087"
     },
     "user_tz": -60
    },
    "id": "SnupyjfkPp-q",
    "outputId": "a7386877-ff82-4077-82de-6771930f1095"
   },
   "outputs": [
    {
     "data": {
      "text/plain": [
       "14"
      ]
     },
     "execution_count": 92,
     "metadata": {},
     "output_type": "execute_result"
    }
   ],
   "source": [
    "# default for 'op' is 'add'\n",
    "calc(10, 4)"
   ]
  },
  {
   "cell_type": "code",
   "execution_count": 93,
   "metadata": {
    "id": "xZjQRtM1Pp-r"
   },
   "outputs": [
    {
     "data": {
      "text/plain": [
       "6"
      ]
     },
     "execution_count": 93,
     "metadata": {},
     "output_type": "execute_result"
    }
   ],
   "source": [
    "calc(10, 4, 'sub')"
   ]
  },
  {
   "cell_type": "code",
   "execution_count": 94,
   "metadata": {
    "id": "UzAUXO31Pp-s"
   },
   "outputs": [
    {
     "name": "stdout",
     "output_type": "stream",
     "text": [
      "valid operations are add and sub\n"
     ]
    }
   ],
   "source": [
    "calc(10, 4, 'div')"
   ]
  },
  {
   "cell_type": "markdown",
   "metadata": {
    "id": "S1PwUuIuPp-t"
   },
   "source": [
    "**Use `pass` as a placeholder if you haven't written the function body:**"
   ]
  },
  {
   "cell_type": "code",
   "execution_count": 95,
   "metadata": {
    "id": "zRFDxBUXPp-t"
   },
   "outputs": [],
   "source": [
    "def stub():\n",
    "    pass"
   ]
  },
  {
   "cell_type": "markdown",
   "metadata": {
    "id": "UgczoArIPp-u"
   },
   "source": [
    "**Return two values from a single function:**"
   ]
  },
  {
   "cell_type": "code",
   "execution_count": 96,
   "metadata": {
    "executionInfo": {
     "elapsed": 864,
     "status": "ok",
     "timestamp": 1611736960281,
     "user": {
      "displayName": "Gerben Beintema",
      "photoUrl": "https://lh3.googleusercontent.com/a-/AOh14GiDB1vo6wnSlIsMMGD0ly3iE5msxIZDp41lVxtVGFU=s64",
      "userId": "17991627602473413087"
     },
     "user_tz": -60
    },
    "id": "djMsSAoTPp-u"
   },
   "outputs": [],
   "source": [
    "def min_max(nums):\n",
    "    return min(nums), max(nums)"
   ]
  },
  {
   "cell_type": "code",
   "execution_count": 97,
   "metadata": {
    "colab": {
     "base_uri": "https://localhost:8080/"
    },
    "executionInfo": {
     "elapsed": 568,
     "status": "ok",
     "timestamp": 1611736960282,
     "user": {
      "displayName": "Gerben Beintema",
      "photoUrl": "https://lh3.googleusercontent.com/a-/AOh14GiDB1vo6wnSlIsMMGD0ly3iE5msxIZDp41lVxtVGFU=s64",
      "userId": "17991627602473413087"
     },
     "user_tz": -60
    },
    "id": "SHnyZcn_Pp-v",
    "outputId": "34a7f1af-0fec-49fd-e36a-b7c0968a561e"
   },
   "outputs": [
    {
     "data": {
      "text/plain": [
       "(1, 3)"
      ]
     },
     "execution_count": 97,
     "metadata": {},
     "output_type": "execute_result"
    }
   ],
   "source": [
    "# return values can be assigned to a single variable as a tuple\n",
    "nums = [1, 2, 3]\n",
    "min_max_num = min_max(nums)\n",
    "min_max_num"
   ]
  },
  {
   "cell_type": "code",
   "execution_count": 98,
   "metadata": {
    "colab": {
     "base_uri": "https://localhost:8080/"
    },
    "executionInfo": {
     "elapsed": 494,
     "status": "ok",
     "timestamp": 1611736964312,
     "user": {
      "displayName": "Gerben Beintema",
      "photoUrl": "https://lh3.googleusercontent.com/a-/AOh14GiDB1vo6wnSlIsMMGD0ly3iE5msxIZDp41lVxtVGFU=s64",
      "userId": "17991627602473413087"
     },
     "user_tz": -60
    },
    "id": "5AduNONyPp-x",
    "outputId": "5a1d4c10-8b11-4789-f4d3-bfcc1972ff7f"
   },
   "outputs": [
    {
     "name": "stdout",
     "output_type": "stream",
     "text": [
      "1\n",
      "3\n"
     ]
    }
   ],
   "source": [
    "# return values can be assigned into multiple variables using tuple unpacking\n",
    "min_num, max_num = min_max(nums)\n",
    "print(min_num)\n",
    "print(max_num)"
   ]
  },
  {
   "cell_type": "markdown",
   "metadata": {
    "id": "IAcPswIqPp-y"
   },
   "source": [
    "[<a href=\"#Python-Quickstart-Tutorial\">Back to top</a>]"
   ]
  },
  {
   "cell_type": "markdown",
   "metadata": {
    "id": "qLzteksiPp-y"
   },
   "source": [
    "## 7. Anonymous (Lambda) Functions\n",
    "\n",
    "- Primarily used to temporarily define a function for use by another function"
   ]
  },
  {
   "cell_type": "code",
   "execution_count": 99,
   "metadata": {
    "id": "P_6nYIVBPp-y"
   },
   "outputs": [],
   "source": [
    "# define a function the \"usual\" way\n",
    "def squared(x):\n",
    "    return x**2"
   ]
  },
  {
   "cell_type": "code",
   "execution_count": 100,
   "metadata": {
    "id": "uGfsqboIPp-z"
   },
   "outputs": [],
   "source": [
    "# define an identical function using lambda\n",
    "squared = lambda x: x**2"
   ]
  },
  {
   "cell_type": "markdown",
   "metadata": {
    "id": "Tn3HEToiPp-0"
   },
   "source": [
    "**Sort a list of strings by the last letter:**"
   ]
  },
  {
   "cell_type": "code",
   "execution_count": 101,
   "metadata": {
    "id": "K6R8EzF5Pp-0"
   },
   "outputs": [
    {
     "data": {
      "text/plain": [
       "['marge', 'homer', 'bart']"
      ]
     },
     "execution_count": 101,
     "metadata": {},
     "output_type": "execute_result"
    }
   ],
   "source": [
    "# without using lambda\n",
    "simpsons = ['homer', 'marge', 'bart']\n",
    "def last_letter(word):\n",
    "    return word[-1]\n",
    "sorted(simpsons, key=last_letter)"
   ]
  },
  {
   "cell_type": "code",
   "execution_count": 102,
   "metadata": {
    "id": "HjuXmk68Pp-1"
   },
   "outputs": [
    {
     "data": {
      "text/plain": [
       "['marge', 'homer', 'bart']"
      ]
     },
     "execution_count": 102,
     "metadata": {},
     "output_type": "execute_result"
    }
   ],
   "source": [
    "# using lambda\n",
    "sorted(simpsons, key=lambda word: word[-1])"
   ]
  },
  {
   "cell_type": "markdown",
   "metadata": {
    "id": "C4-NjATlPp-2"
   },
   "source": [
    "[<a href=\"#Python-Quickstart-Tutorial\">Back to top</a>]"
   ]
  },
  {
   "cell_type": "markdown",
   "metadata": {
    "id": "oo4dDbGvPp-3"
   },
   "source": [
    "## 8. For Loops and While Loops"
   ]
  },
  {
   "cell_type": "markdown",
   "metadata": {
    "id": "CMxwCJn4Pp-3"
   },
   "source": [
    "**`range` returns a sequence of integers which can be turned into a list (Python 3):**"
   ]
  },
  {
   "cell_type": "code",
   "execution_count": 104,
   "metadata": {
    "id": "4cOkKyYIPp-3"
   },
   "outputs": [
    {
     "name": "stdout",
     "output_type": "stream",
     "text": [
      "[0, 1, 2]\n"
     ]
    }
   ],
   "source": [
    "# includes the start value but excludes the stop value\n",
    "print(list(range(0, 3)))"
   ]
  },
  {
   "cell_type": "code",
   "execution_count": 105,
   "metadata": {
    "id": "vAfEN-FYPp-4"
   },
   "outputs": [
    {
     "name": "stdout",
     "output_type": "stream",
     "text": [
      "[0, 1, 2]\n"
     ]
    }
   ],
   "source": [
    "# default start value is 0\n",
    "print(list(range(3)))"
   ]
  },
  {
   "cell_type": "code",
   "execution_count": 106,
   "metadata": {
    "id": "6_yjuVIyPp-5"
   },
   "outputs": [
    {
     "name": "stdout",
     "output_type": "stream",
     "text": [
      "[0, 2, 4]\n"
     ]
    }
   ],
   "source": [
    "# third argument is the step value\n",
    "print(list(range(0, 5, 2)))"
   ]
  },
  {
   "cell_type": "code",
   "execution_count": 103,
   "metadata": {},
   "outputs": [
    {
     "data": {
      "text/plain": [
       "range(0, 10000000000000000000000000000000000000000000000000000000000000000000000000000000000000000000000000000)"
      ]
     },
     "execution_count": 103,
     "metadata": {},
     "output_type": "execute_result"
    }
   ],
   "source": [
    "range(0, 10**100) # range does not return a list for if this was a list it would have crashed python."
   ]
  },
  {
   "cell_type": "markdown",
   "metadata": {
    "id": "2huGvkROPp-6"
   },
   "source": [
    "**`for` loops:**"
   ]
  },
  {
   "cell_type": "code",
   "execution_count": 107,
   "metadata": {
    "colab": {
     "base_uri": "https://localhost:8080/"
    },
    "executionInfo": {
     "elapsed": 498,
     "status": "ok",
     "timestamp": 1611737041779,
     "user": {
      "displayName": "Gerben Beintema",
      "photoUrl": "https://lh3.googleusercontent.com/a-/AOh14GiDB1vo6wnSlIsMMGD0ly3iE5msxIZDp41lVxtVGFU=s64",
      "userId": "17991627602473413087"
     },
     "user_tz": -60
    },
    "id": "hlfYeDs5TBi2",
    "outputId": "408c8bcd-43c2-45bf-ffcd-1dbaab3fcf3f"
   },
   "outputs": [
    {
     "name": "stdout",
     "output_type": "stream",
     "text": [
      "0 0\n",
      "2 4\n",
      "4 16\n",
      "6 36\n"
     ]
    }
   ],
   "source": [
    "# basic use of itterating in a range for loops \n",
    "for i in range(0,8,2):\n",
    "    print(i,i**2)"
   ]
  },
  {
   "cell_type": "code",
   "execution_count": 108,
   "metadata": {
    "colab": {
     "base_uri": "https://localhost:8080/"
    },
    "executionInfo": {
     "elapsed": 694,
     "status": "ok",
     "timestamp": 1611737111977,
     "user": {
      "displayName": "Gerben Beintema",
      "photoUrl": "https://lh3.googleusercontent.com/a-/AOh14GiDB1vo6wnSlIsMMGD0ly3iE5msxIZDp41lVxtVGFU=s64",
      "userId": "17991627602473413087"
     },
     "user_tz": -60
    },
    "id": "XpMamAhuPp-7",
    "outputId": "23bebe5c-7d7d-4709-ca74-463cae9ed5b0"
   },
   "outputs": [
    {
     "name": "stdout",
     "output_type": "stream",
     "text": [
      "APPLE\n",
      "BANANA\n",
      "CHERRY\n"
     ]
    }
   ],
   "source": [
    "# not the recommended style\n",
    "fruits = ['apple', 'banana', 'cherry']\n",
    "for i in range(len(fruits)):\n",
    "    print(fruits[i].upper())"
   ]
  },
  {
   "cell_type": "code",
   "execution_count": 109,
   "metadata": {
    "colab": {
     "base_uri": "https://localhost:8080/"
    },
    "executionInfo": {
     "elapsed": 596,
     "status": "ok",
     "timestamp": 1611737124726,
     "user": {
      "displayName": "Gerben Beintema",
      "photoUrl": "https://lh3.googleusercontent.com/a-/AOh14GiDB1vo6wnSlIsMMGD0ly3iE5msxIZDp41lVxtVGFU=s64",
      "userId": "17991627602473413087"
     },
     "user_tz": -60
    },
    "id": "oyXk0otVPp-7",
    "outputId": "56f735e2-02d1-430e-e9f3-4ded5dd00085"
   },
   "outputs": [
    {
     "name": "stdout",
     "output_type": "stream",
     "text": [
      "APPLE\n",
      "BANANA\n",
      "CHERRY\n"
     ]
    }
   ],
   "source": [
    "# recommended style (a lot cleaner)\n",
    "for fruit in fruits:\n",
    "    print(fruit.upper())"
   ]
  },
  {
   "cell_type": "code",
   "execution_count": 110,
   "metadata": {
    "id": "Ke45-Q7NPp-8"
   },
   "outputs": [
    {
     "name": "stdout",
     "output_type": "stream",
     "text": [
      "dad homer\n",
      "mom marge\n",
      "size 6\n"
     ]
    }
   ],
   "source": [
    "# iterate through two things at once (using tuple unpacking)\n",
    "family = {'dad':'homer', 'mom':'marge', 'size':6}\n",
    "for key, value in family.items():\n",
    "    print(key, value)"
   ]
  },
  {
   "cell_type": "code",
   "execution_count": 111,
   "metadata": {
    "colab": {
     "base_uri": "https://localhost:8080/"
    },
    "executionInfo": {
     "elapsed": 501,
     "status": "ok",
     "timestamp": 1611737160749,
     "user": {
      "displayName": "Gerben Beintema",
      "photoUrl": "https://lh3.googleusercontent.com/a-/AOh14GiDB1vo6wnSlIsMMGD0ly3iE5msxIZDp41lVxtVGFU=s64",
      "userId": "17991627602473413087"
     },
     "user_tz": -60
    },
    "id": "Gag8MLvlPp--",
    "outputId": "1b4205e3-b262-4e54-eea1-4a1fea058cc0"
   },
   "outputs": [
    {
     "name": "stdout",
     "output_type": "stream",
     "text": [
      "0 apple\n",
      "1 banana\n",
      "2 cherry\n"
     ]
    }
   ],
   "source": [
    "# use enumerate if you need to access the index value within the loop\n",
    "for index, fruit in enumerate(fruits):\n",
    "    print(index, fruit)"
   ]
  },
  {
   "cell_type": "code",
   "execution_count": 112,
   "metadata": {},
   "outputs": [
    {
     "name": "stdout",
     "output_type": "stream",
     "text": [
      "A apple\n",
      "B banana\n",
      "C cherry\n"
     ]
    }
   ],
   "source": [
    "# use zip to itterated over two or more lists at the same time\n",
    "for letter, fruit in zip(['A','B','C'],fruits):\n",
    "    print(letter, fruit)"
   ]
  },
  {
   "cell_type": "markdown",
   "metadata": {
    "id": "5AmcZItbPp-_"
   },
   "source": [
    "**`for` loop with break:**"
   ]
  },
  {
   "cell_type": "code",
   "execution_count": 113,
   "metadata": {
    "id": "FIZyHH-GPp-_"
   },
   "outputs": [
    {
     "name": "stdout",
     "output_type": "stream",
     "text": [
      "apple\n",
      "banana\n",
      "Found the banana!\n"
     ]
    }
   ],
   "source": [
    "for fruit in fruits:\n",
    "    print(fruit)\n",
    "    if fruit == 'banana':\n",
    "        print('Found the banana!')\n",
    "        break    # exit the loop\n",
    "#cherry is not printed due to break"
   ]
  },
  {
   "cell_type": "markdown",
   "metadata": {
    "id": "wyPOKW7FPp_B"
   },
   "source": [
    "**`while` loop:**"
   ]
  },
  {
   "cell_type": "code",
   "execution_count": 114,
   "metadata": {
    "id": "3TkLzmKHPp_B"
   },
   "outputs": [
    {
     "name": "stdout",
     "output_type": "stream",
     "text": [
      "This will print 5 times\n",
      "This will print 5 times\n",
      "This will print 5 times\n",
      "This will print 5 times\n",
      "This will print 5 times\n"
     ]
    }
   ],
   "source": [
    "count = 0\n",
    "while count < 5:\n",
    "    print('This will print 5 times')\n",
    "    count += 1    # equivalent to 'count = count + 1'"
   ]
  },
  {
   "cell_type": "markdown",
   "metadata": {
    "id": "pVNXbiwUPp_D"
   },
   "source": [
    "[<a href=\"#Python-Quickstart-Tutorial\">Back to top</a>]"
   ]
  },
  {
   "cell_type": "markdown",
   "metadata": {
    "id": "q0pfLfixPp_D"
   },
   "source": [
    "## 9. Comprehensions"
   ]
  },
  {
   "cell_type": "markdown",
   "metadata": {
    "id": "KzLWKz_MPp_D"
   },
   "source": [
    "**List comprehension:**"
   ]
  },
  {
   "cell_type": "code",
   "execution_count": 116,
   "metadata": {
    "id": "bBIAQHJPPp_D"
   },
   "outputs": [
    {
     "data": {
      "text/plain": [
       "[1, 8, 27, 64, 125]"
      ]
     },
     "execution_count": 116,
     "metadata": {},
     "output_type": "execute_result"
    }
   ],
   "source": [
    "# for loop to create a list of cubes\n",
    "nums = [1, 2, 3, 4, 5]\n",
    "cubes = []\n",
    "for num in nums:\n",
    "    cubes.append(num**3)\n",
    "cubes"
   ]
  },
  {
   "cell_type": "code",
   "execution_count": 117,
   "metadata": {
    "id": "RzNSQcI6Pp_E"
   },
   "outputs": [
    {
     "data": {
      "text/plain": [
       "[1, 8, 27, 64, 125]"
      ]
     },
     "execution_count": 117,
     "metadata": {},
     "output_type": "execute_result"
    }
   ],
   "source": [
    "# equivalent list comprehension\n",
    "cubes = [num**3 for num in nums]\n",
    "cubes"
   ]
  },
  {
   "cell_type": "code",
   "execution_count": 118,
   "metadata": {
    "id": "OZkVxbf3Pp_F"
   },
   "outputs": [
    {
     "data": {
      "text/plain": [
       "[8, 64]"
      ]
     },
     "execution_count": 118,
     "metadata": {},
     "output_type": "execute_result"
    }
   ],
   "source": [
    "# for loop to create a list of cubes of even numbers\n",
    "cubes_of_even = []\n",
    "for num in nums:\n",
    "    if num % 2 == 0:\n",
    "        cubes_of_even.append(num**3)\n",
    "cubes_of_even"
   ]
  },
  {
   "cell_type": "code",
   "execution_count": 119,
   "metadata": {
    "id": "J-nbiY8UPp_G"
   },
   "outputs": [
    {
     "data": {
      "text/plain": [
       "[8, 64]"
      ]
     },
     "execution_count": 119,
     "metadata": {},
     "output_type": "execute_result"
    }
   ],
   "source": [
    "# equivalent list comprehension\n",
    "# syntax: [expression for variable in iterable if condition]\n",
    "cubes_of_even = [num**3 for num in nums if num % 2 == 0]\n",
    "cubes_of_even"
   ]
  },
  {
   "cell_type": "code",
   "execution_count": 120,
   "metadata": {
    "id": "ywM9VpRdPp_I"
   },
   "outputs": [
    {
     "data": {
      "text/plain": [
       "[1, 8, 9, 64, 25]"
      ]
     },
     "execution_count": 120,
     "metadata": {},
     "output_type": "execute_result"
    }
   ],
   "source": [
    "# for loop to cube even numbers and square odd numbers\n",
    "cubes_and_squares = []\n",
    "for num in nums:\n",
    "    if num % 2 == 0:\n",
    "        cubes_and_squares.append(num**3)\n",
    "    else:\n",
    "        cubes_and_squares.append(num**2)\n",
    "cubes_and_squares"
   ]
  },
  {
   "cell_type": "code",
   "execution_count": 121,
   "metadata": {
    "id": "AavQ6EFNPp_I"
   },
   "outputs": [
    {
     "data": {
      "text/plain": [
       "[1, 8, 9, 64, 25]"
      ]
     },
     "execution_count": 121,
     "metadata": {},
     "output_type": "execute_result"
    }
   ],
   "source": [
    "# equivalent list comprehension (using a ternary expression)\n",
    "# syntax: [true_condition if condition else false_condition for variable in iterable]\n",
    "cubes_and_squares = [(num**3 if num % 2 == 0 else num**2) for num in nums]\n",
    "cubes_and_squares"
   ]
  },
  {
   "cell_type": "code",
   "execution_count": 122,
   "metadata": {
    "id": "06MepId7Pp_J"
   },
   "outputs": [
    {
     "data": {
      "text/plain": [
       "[1, 2, 3, 4]"
      ]
     },
     "execution_count": 122,
     "metadata": {},
     "output_type": "execute_result"
    }
   ],
   "source": [
    "# for loop to flatten a 2d-list\n",
    "matrix = [[1, 2], [3, 4]]\n",
    "items = []\n",
    "for row in matrix:\n",
    "    for item in row:\n",
    "        items.append(item)\n",
    "items #1D"
   ]
  },
  {
   "cell_type": "code",
   "execution_count": 123,
   "metadata": {
    "id": "hoz4tmODPp_K"
   },
   "outputs": [
    {
     "data": {
      "text/plain": [
       "[1, 2, 3, 4]"
      ]
     },
     "execution_count": 123,
     "metadata": {},
     "output_type": "execute_result"
    }
   ],
   "source": [
    "# equivalent list comprehension\n",
    "items = [item for row in matrix\n",
    "              for item in row]\n",
    "items #1D"
   ]
  },
  {
   "cell_type": "markdown",
   "metadata": {
    "id": "AjVBoqJEPp_L"
   },
   "source": [
    "[<a href=\"#Python-Quickstart-Tutorial\">Back to top</a>]"
   ]
  },
  {
   "cell_type": "markdown",
   "metadata": {
    "id": "20g6JcciPp_L"
   },
   "source": [
    "## 10. Map and Filter"
   ]
  },
  {
   "cell_type": "markdown",
   "metadata": {},
   "source": [
    "Mapping can be done compactly as follow"
   ]
  },
  {
   "cell_type": "code",
   "execution_count": 124,
   "metadata": {
    "id": "aDUs3oE0Pp_L"
   },
   "outputs": [],
   "source": [
    "simpsons = ['homer', 'marge', 'bart']"
   ]
  },
  {
   "cell_type": "code",
   "execution_count": 125,
   "metadata": {
    "id": "isPj_XpCPp_M"
   },
   "outputs": [
    {
     "data": {
      "text/plain": [
       "[5, 5, 4]"
      ]
     },
     "execution_count": 125,
     "metadata": {},
     "output_type": "execute_result"
    }
   ],
   "source": [
    "[len(word) for word in simpsons] #create a new list with the lenght of each word from simpsons"
   ]
  },
  {
   "cell_type": "code",
   "execution_count": 126,
   "metadata": {
    "id": "GxbKAxT9Pp_Q"
   },
   "outputs": [
    {
     "data": {
      "text/plain": [
       "['r', 'e', 't']"
      ]
     },
     "execution_count": 126,
     "metadata": {},
     "output_type": "execute_result"
    }
   ],
   "source": [
    "[word[-1] for word in simpsons] #same with last letter"
   ]
  },
  {
   "cell_type": "markdown",
   "metadata": {
    "id": "OZNpHAF4Pp_R"
   },
   "source": [
    "Filtering can done compactly using"
   ]
  },
  {
   "cell_type": "code",
   "execution_count": 127,
   "metadata": {
    "id": "5uTNYt17Pp_R"
   },
   "outputs": [
    {
     "data": {
      "text/plain": [
       "[0, 2, 4, 6]"
      ]
     },
     "execution_count": 127,
     "metadata": {},
     "output_type": "execute_result"
    }
   ],
   "source": [
    "nums = range(8)\n",
    "[num for num in nums if num % 2 == 0]"
   ]
  },
  {
   "cell_type": "markdown",
   "metadata": {
    "id": "-KJuuiRoPp_S"
   },
   "source": [
    "[<a href=\"#Python-Quickstart-Tutorial\">Back to top</a>]"
   ]
  },
  {
   "cell_type": "markdown",
   "metadata": {
    "id": "a1KMsn7mPp_S"
   },
   "source": [
    "## 11. Numpy"
   ]
  },
  {
   "cell_type": "markdown",
   "metadata": {
    "id": "LOUmN4GnPp_S"
   },
   "source": [
    "Numpy is the core library for scientific computing in Python. It provides a high-performance multidimensional array object, and tools for working with these arrays. If you are already familiar with MATLAB, you might find this [tutorial](https://numpy.org/doc/stable/user/numpy-for-matlab-users.html) useful to get started with Numpy.\n",
    "\n",
    "To use Numpy, we first need to import the numpy package:"
   ]
  },
  {
   "cell_type": "code",
   "execution_count": 128,
   "metadata": {
    "executionInfo": {
     "elapsed": 528,
     "status": "ok",
     "timestamp": 1611737241413,
     "user": {
      "displayName": "Gerben Beintema",
      "photoUrl": "https://lh3.googleusercontent.com/a-/AOh14GiDB1vo6wnSlIsMMGD0ly3iE5msxIZDp41lVxtVGFU=s64",
      "userId": "17991627602473413087"
     },
     "user_tz": -60
    },
    "id": "ioQ0BaCBPp_T"
   },
   "outputs": [],
   "source": [
    "import numpy as np"
   ]
  },
  {
   "cell_type": "markdown",
   "metadata": {
    "id": "xT4mA7QyPp_V"
   },
   "source": [
    "**Arrays**\n",
    "\n",
    "A numpy array is a grid of values, all of the same type, and is indexed by a tuple of nonnegative integers. The number of dimensions is the rank of the array; the shape of an array is a tuple of integers giving the size of the array along each dimension.\n",
    "\n",
    "We can initialize numpy arrays from nested Python lists, and access elements using square brackets:"
   ]
  },
  {
   "cell_type": "code",
   "execution_count": 129,
   "metadata": {
    "colab": {
     "base_uri": "https://localhost:8080/"
    },
    "executionInfo": {
     "elapsed": 461,
     "status": "ok",
     "timestamp": 1611737321594,
     "user": {
      "displayName": "Gerben Beintema",
      "photoUrl": "https://lh3.googleusercontent.com/a-/AOh14GiDB1vo6wnSlIsMMGD0ly3iE5msxIZDp41lVxtVGFU=s64",
      "userId": "17991627602473413087"
     },
     "user_tz": -60
    },
    "id": "F758_VJDPp_V",
    "outputId": "9e445537-001b-4549-bff5-6f0a7b734681"
   },
   "outputs": [
    {
     "name": "stdout",
     "output_type": "stream",
     "text": [
      "<class 'numpy.ndarray'> (3,) 1 2 3\n",
      "[2, 3, 4]\n",
      "[2 3 4]\n"
     ]
    }
   ],
   "source": [
    "a_list = [1,2,3]\n",
    "a = np.array(a_list)  # Create a rank 1 array from a list\n",
    "print(type(a), a.shape, a[0], a[1], a[2])\n",
    "\n",
    "print([ai + 1 for ai in a_list]) #adding 1 to each element in using lists\n",
    "print(a + 1) #using a ndarray (vectorized computation = a lot faster)"
   ]
  },
  {
   "cell_type": "code",
   "execution_count": 130,
   "metadata": {
    "colab": {
     "base_uri": "https://localhost:8080/"
    },
    "executionInfo": {
     "elapsed": 461,
     "status": "ok",
     "timestamp": 1611737321594,
     "user": {
      "displayName": "Gerben Beintema",
      "photoUrl": "https://lh3.googleusercontent.com/a-/AOh14GiDB1vo6wnSlIsMMGD0ly3iE5msxIZDp41lVxtVGFU=s64",
      "userId": "17991627602473413087"
     },
     "user_tz": -60
    },
    "id": "F758_VJDPp_V",
    "outputId": "9e445537-001b-4549-bff5-6f0a7b734681"
   },
   "outputs": [
    {
     "name": "stdout",
     "output_type": "stream",
     "text": [
      "[5 2 3]\n"
     ]
    }
   ],
   "source": [
    "a[0] = 5                 # Change an element of the array\n",
    "print(a)"
   ]
  },
  {
   "cell_type": "code",
   "execution_count": 131,
   "metadata": {
    "colab": {
     "base_uri": "https://localhost:8080/"
    },
    "executionInfo": {
     "elapsed": 560,
     "status": "ok",
     "timestamp": 1611737333848,
     "user": {
      "displayName": "Gerben Beintema",
      "photoUrl": "https://lh3.googleusercontent.com/a-/AOh14GiDB1vo6wnSlIsMMGD0ly3iE5msxIZDp41lVxtVGFU=s64",
      "userId": "17991627602473413087"
     },
     "user_tz": -60
    },
    "id": "1h9aX7BcPp_W",
    "outputId": "d3f77e13-4436-4b2c-e427-eb480d820efb"
   },
   "outputs": [
    {
     "name": "stdout",
     "output_type": "stream",
     "text": [
      "[[1 2 3]\n",
      " [4 5 6]]\n"
     ]
    }
   ],
   "source": [
    "b = np.array([[1,2,3],[4,5,6]])   # Create a rank 2 array\n",
    "print(b)"
   ]
  },
  {
   "cell_type": "code",
   "execution_count": 132,
   "metadata": {
    "colab": {
     "base_uri": "https://localhost:8080/"
    },
    "executionInfo": {
     "elapsed": 511,
     "status": "ok",
     "timestamp": 1611737345955,
     "user": {
      "displayName": "Gerben Beintema",
      "photoUrl": "https://lh3.googleusercontent.com/a-/AOh14GiDB1vo6wnSlIsMMGD0ly3iE5msxIZDp41lVxtVGFU=s64",
      "userId": "17991627602473413087"
     },
     "user_tz": -60
    },
    "id": "A6V42iv6Pp_Y",
    "outputId": "bcfdbd96-3a77-4a85-afcb-07e8e8631de2"
   },
   "outputs": [
    {
     "name": "stdout",
     "output_type": "stream",
     "text": [
      "(2, 3)\n",
      "1 2 4\n"
     ]
    }
   ],
   "source": [
    "print(b.shape)\n",
    "print(b[0, 0], b[0, 1], b[1, 0])"
   ]
  },
  {
   "cell_type": "markdown",
   "metadata": {
    "id": "yI-RxfqnPp_Z"
   },
   "source": [
    "Numpy also provides many functions to create arrays:"
   ]
  },
  {
   "cell_type": "code",
   "execution_count": 133,
   "metadata": {
    "colab": {
     "base_uri": "https://localhost:8080/"
    },
    "executionInfo": {
     "elapsed": 498,
     "status": "ok",
     "timestamp": 1611737356330,
     "user": {
      "displayName": "Gerben Beintema",
      "photoUrl": "https://lh3.googleusercontent.com/a-/AOh14GiDB1vo6wnSlIsMMGD0ly3iE5msxIZDp41lVxtVGFU=s64",
      "userId": "17991627602473413087"
     },
     "user_tz": -60
    },
    "id": "U0kNyWgWPp_Z",
    "outputId": "bff49c5f-1ca2-403b-d9a0-15c1e5cae43f"
   },
   "outputs": [
    {
     "name": "stdout",
     "output_type": "stream",
     "text": [
      "[[0. 0.]\n",
      " [0. 0.]]\n"
     ]
    }
   ],
   "source": [
    "a = np.zeros((2,2))  # Create an array of all zeros\n",
    "print(a)"
   ]
  },
  {
   "cell_type": "code",
   "execution_count": 134,
   "metadata": {
    "colab": {
     "base_uri": "https://localhost:8080/"
    },
    "executionInfo": {
     "elapsed": 362,
     "status": "ok",
     "timestamp": 1611737357005,
     "user": {
      "displayName": "Gerben Beintema",
      "photoUrl": "https://lh3.googleusercontent.com/a-/AOh14GiDB1vo6wnSlIsMMGD0ly3iE5msxIZDp41lVxtVGFU=s64",
      "userId": "17991627602473413087"
     },
     "user_tz": -60
    },
    "id": "V9z-vhYyPp_a",
    "outputId": "61e25dce-e859-4069-dd6b-33c63ac71f8f"
   },
   "outputs": [
    {
     "name": "stdout",
     "output_type": "stream",
     "text": [
      "[[1. 1.]]\n"
     ]
    }
   ],
   "source": [
    "b = np.ones((1,2))   # Create an array of all ones\n",
    "print(b)"
   ]
  },
  {
   "cell_type": "code",
   "execution_count": 135,
   "metadata": {
    "colab": {
     "base_uri": "https://localhost:8080/"
    },
    "executionInfo": {
     "elapsed": 469,
     "status": "ok",
     "timestamp": 1611737359100,
     "user": {
      "displayName": "Gerben Beintema",
      "photoUrl": "https://lh3.googleusercontent.com/a-/AOh14GiDB1vo6wnSlIsMMGD0ly3iE5msxIZDp41lVxtVGFU=s64",
      "userId": "17991627602473413087"
     },
     "user_tz": -60
    },
    "id": "A48xBW6wPp_b",
    "outputId": "445ad892-543e-47b9-858e-b983f82074db"
   },
   "outputs": [
    {
     "name": "stdout",
     "output_type": "stream",
     "text": [
      "[[7 7]\n",
      " [7 7]]\n"
     ]
    }
   ],
   "source": [
    "c = np.full((2,2), 7) # Create a constant array\n",
    "print(c)"
   ]
  },
  {
   "cell_type": "code",
   "execution_count": 136,
   "metadata": {
    "colab": {
     "base_uri": "https://localhost:8080/"
    },
    "executionInfo": {
     "elapsed": 507,
     "status": "ok",
     "timestamp": 1611737361443,
     "user": {
      "displayName": "Gerben Beintema",
      "photoUrl": "https://lh3.googleusercontent.com/a-/AOh14GiDB1vo6wnSlIsMMGD0ly3iE5msxIZDp41lVxtVGFU=s64",
      "userId": "17991627602473413087"
     },
     "user_tz": -60
    },
    "id": "lF0VNSbPPp_b",
    "outputId": "b57d9a90-3262-4ffb-ab7d-24689cd151a8"
   },
   "outputs": [
    {
     "name": "stdout",
     "output_type": "stream",
     "text": [
      "[[1. 0.]\n",
      " [0. 1.]]\n"
     ]
    }
   ],
   "source": [
    "d = np.eye(2)        # Create a 2x2 identity matrix\n",
    "print(d)"
   ]
  },
  {
   "cell_type": "code",
   "execution_count": 137,
   "metadata": {
    "colab": {
     "base_uri": "https://localhost:8080/"
    },
    "executionInfo": {
     "elapsed": 456,
     "status": "ok",
     "timestamp": 1611737364330,
     "user": {
      "displayName": "Gerben Beintema",
      "photoUrl": "https://lh3.googleusercontent.com/a-/AOh14GiDB1vo6wnSlIsMMGD0ly3iE5msxIZDp41lVxtVGFU=s64",
      "userId": "17991627602473413087"
     },
     "user_tz": -60
    },
    "id": "iz2aXVfxPp_c",
    "outputId": "894ed615-f2bc-478f-9d67-72ca42c3e099"
   },
   "outputs": [
    {
     "name": "stdout",
     "output_type": "stream",
     "text": [
      "[[0.70661293 0.00365687]\n",
      " [0.12863363 0.87927102]]\n"
     ]
    }
   ],
   "source": [
    "e = np.random.uniform(size=(2,2)) # Create an array filled with uniform random values\n",
    "print(e)"
   ]
  },
  {
   "cell_type": "markdown",
   "metadata": {
    "id": "LSaJrr0LPp_e"
   },
   "source": [
    "### Array indexing\n",
    "\n",
    "Numpy offers several ways to index into arrays.\n",
    "\n",
    "Slicing: Similar to Python lists, numpy arrays can be sliced. Since arrays may be multidimensional, you must specify a slice for each dimension of the array:"
   ]
  },
  {
   "cell_type": "code",
   "execution_count": 138,
   "metadata": {
    "colab": {
     "base_uri": "https://localhost:8080/"
    },
    "executionInfo": {
     "elapsed": 686,
     "status": "ok",
     "timestamp": 1611737502249,
     "user": {
      "displayName": "Gerben Beintema",
      "photoUrl": "https://lh3.googleusercontent.com/a-/AOh14GiDB1vo6wnSlIsMMGD0ly3iE5msxIZDp41lVxtVGFU=s64",
      "userId": "17991627602473413087"
     },
     "user_tz": -60
    },
    "id": "PwGLivZQPp_e",
    "outputId": "733a30d3-6522-4c74-bf1d-782ae6bb0ffd"
   },
   "outputs": [
    {
     "name": "stdout",
     "output_type": "stream",
     "text": [
      "[[2 3]\n",
      " [6 7]]\n"
     ]
    }
   ],
   "source": [
    "import numpy as np\n",
    "\n",
    "# Create the following rank 2 array with shape (3, 4)\n",
    "# [[ 1  2  3  4]\n",
    "#  [ 5  6  7  8]\n",
    "#  [ 9 10 11 12]]\n",
    "a = np.array([[1,2,3,4], [5,6,7,8], [9,10,11,12]])\n",
    "\n",
    "# Use slicing to pull out the subarray consisting of the first 2 rows\n",
    "# and columns 1 and 2; b is the following array of shape (2, 2):\n",
    "# [[2 3]\n",
    "#  [6 7]]\n",
    "b = a[:2, 1:3]\n",
    "print(b)"
   ]
  },
  {
   "cell_type": "markdown",
   "metadata": {
    "id": "oiJDm4kEPp_f"
   },
   "source": [
    "*side note:* A slice of an array is a view into the same data, so modifying it will modify the original array. Use `np.copy(some_array)` to disconnect it. For further information see: https://scipy-cookbook.readthedocs.io/items/ViewsVsCopies.html"
   ]
  },
  {
   "cell_type": "markdown",
   "metadata": {
    "id": "xvYdhUcDPp_g"
   },
   "source": [
    "You can also mix integer indexing with slice indexing. However, doing so will yield an array of lower rank than the original array. Note that this is quite different from the way that MATLAB handles array slicing:"
   ]
  },
  {
   "cell_type": "code",
   "execution_count": 139,
   "metadata": {
    "colab": {
     "base_uri": "https://localhost:8080/"
    },
    "executionInfo": {
     "elapsed": 497,
     "status": "ok",
     "timestamp": 1611737513724,
     "user": {
      "displayName": "Gerben Beintema",
      "photoUrl": "https://lh3.googleusercontent.com/a-/AOh14GiDB1vo6wnSlIsMMGD0ly3iE5msxIZDp41lVxtVGFU=s64",
      "userId": "17991627602473413087"
     },
     "user_tz": -60
    },
    "id": "vAPzuhKgPp_g",
    "outputId": "8108222b-5d4c-4aff-d98d-313bfafa4042"
   },
   "outputs": [
    {
     "name": "stdout",
     "output_type": "stream",
     "text": [
      "[[ 1  2  3  4]\n",
      " [ 5  6  7  8]\n",
      " [ 9 10 11 12]]\n"
     ]
    }
   ],
   "source": [
    "# Create the following rank 2 array with shape (3, 4)\n",
    "a = np.array([[1,2,3,4], [5,6,7,8], [9,10,11,12]])\n",
    "print(a)"
   ]
  },
  {
   "cell_type": "markdown",
   "metadata": {
    "id": "vUMrdjrIPp_i"
   },
   "source": [
    "Two ways of accessing the data in the middle row of the array. Mixing integer indexing with slices yields an array of lower rank, while using only slices yields an array of the same rank as the original array:"
   ]
  },
  {
   "cell_type": "code",
   "execution_count": 140,
   "metadata": {
    "id": "7SVJvxxQPp_i"
   },
   "outputs": [
    {
     "name": "stdout",
     "output_type": "stream",
     "text": [
      "[5 6 7 8] (4,)\n",
      "[[5 6 7 8]] (1, 4)\n",
      "[[5 6 7 8]] (1, 4)\n"
     ]
    }
   ],
   "source": [
    "row_r1 = a[1, :]    # Rank 1 view of the second row of a  \n",
    "row_r2 = a[1:2, :]  # Rank 2 view of the second row of a\n",
    "row_r3 = a[[1], :]  # Rank 2 view of the second row of a\n",
    "print( row_r1, row_r1.shape)\n",
    "print( row_r2, row_r2.shape)\n",
    "print( row_r3, row_r3.shape)"
   ]
  },
  {
   "cell_type": "code",
   "execution_count": 141,
   "metadata": {
    "id": "pM8LH52IPp_i"
   },
   "outputs": [
    {
     "name": "stdout",
     "output_type": "stream",
     "text": [
      "[ 2  6 10] (3,)\n",
      "\n",
      "[[ 2]\n",
      " [ 6]\n",
      " [10]] (3, 1)\n"
     ]
    }
   ],
   "source": [
    "# We can make the same distinction when accessing columns of an array:\n",
    "col_r1 = a[:, 1]\n",
    "col_r2 = a[:, 1:2]\n",
    "print(col_r1, col_r1.shape)\n",
    "print()\n",
    "print(col_r2, col_r2.shape)"
   ]
  },
  {
   "cell_type": "markdown",
   "metadata": {
    "id": "Aiy_oCnQPp_j"
   },
   "source": [
    "These are the basic manupulations but more advanced are possible indexing notation see: https://numpy.org/doc/stable/reference/arrays.indexing.html"
   ]
  },
  {
   "cell_type": "markdown",
   "metadata": {
    "id": "fe2RNkw2Pp_o"
   },
   "source": [
    "Boolean array indexing: Boolean array indexing lets you pick out arbitrary elements of an array. Frequently this type of indexing is used to select the elements of an array that satisfy some condition. Here is an example:"
   ]
  },
  {
   "cell_type": "code",
   "execution_count": 145,
   "metadata": {
    "id": "9oiLbjvWPp_o"
   },
   "outputs": [
    {
     "name": "stdout",
     "output_type": "stream",
     "text": [
      "[[False False]\n",
      " [ True  True]\n",
      " [ True  True]]\n"
     ]
    }
   ],
   "source": [
    "import numpy as np\n",
    "\n",
    "a = np.array([[1,2], [3, 4], [5, 6]])\n",
    "\n",
    "bool_idx = a > 2  # Find the elements of a that are bigger than 2;\n",
    "                    # this returns a numpy array of Booleans of the same\n",
    "                    # shape as a, where each slot of bool_idx tells\n",
    "                    # whether that element of a is > 2.\n",
    "\n",
    "print(bool_idx)"
   ]
  },
  {
   "cell_type": "code",
   "execution_count": 146,
   "metadata": {
    "id": "Y3j0eCLzPp_q"
   },
   "outputs": [
    {
     "name": "stdout",
     "output_type": "stream",
     "text": [
      "[3 4 5 6]\n",
      "[3 4 5 6]\n"
     ]
    }
   ],
   "source": [
    "# We use boolean array indexing to construct a rank 1 array\n",
    "# consisting of the elements of a corresponding to the True values\n",
    "# of bool_idx\n",
    "print(a[bool_idx])\n",
    "\n",
    "# We can do all of the above in a single concise statement:\n",
    "print(a[a > 2])"
   ]
  },
  {
   "cell_type": "markdown",
   "metadata": {
    "id": "F5cXuSNGPp_q"
   },
   "source": [
    "For brevity we have left out a lot of details about numpy array indexing; if you want to know more you should read the documentation."
   ]
  },
  {
   "cell_type": "markdown",
   "metadata": {},
   "source": [
    "## Reshaping arrays\n",
    "\n",
    "You can reshape arrays using the reshape function."
   ]
  },
  {
   "cell_type": "code",
   "execution_count": 147,
   "metadata": {},
   "outputs": [
    {
     "name": "stdout",
     "output_type": "stream",
     "text": [
      "(2, 3, 4)\n",
      "[[[ 0  1  2  3]\n",
      "  [ 4  5  6  7]\n",
      "  [ 8  9 10 11]]\n",
      "\n",
      " [[12 13 14 15]\n",
      "  [16 17 18 19]\n",
      "  [20 21 22 23]]]\n",
      "(24,)\n"
     ]
    }
   ],
   "source": [
    "x = np.arange(2*3*4)\n",
    "y = x.reshape((2,3,4))\n",
    "print(y.shape)\n",
    "print(y)\n",
    "print(y.flatten().shape) #flatten it again\n",
    "# x.reshape((2,3,5)) #crashes"
   ]
  },
  {
   "cell_type": "code",
   "execution_count": 148,
   "metadata": {},
   "outputs": [
    {
     "name": "stdout",
     "output_type": "stream",
     "text": [
      "(1, 24, 1)\n"
     ]
    }
   ],
   "source": [
    "z = x[None,:,None] #add a dimention at the first and last index of 1\n",
    "print(z.shape)\n",
    "# print(z)"
   ]
  },
  {
   "cell_type": "code",
   "execution_count": 149,
   "metadata": {},
   "outputs": [
    {
     "data": {
      "text/plain": [
       "(2, 3)"
      ]
     },
     "execution_count": 149,
     "metadata": {},
     "output_type": "execute_result"
    }
   ],
   "source": [
    "a = np.zeros((3,2))\n",
    "np.transpose(a).shape"
   ]
  },
  {
   "cell_type": "markdown",
   "metadata": {
    "id": "XIUpXI0TPp_r"
   },
   "source": [
    "### Datatypes\n",
    "\n",
    "Every numpy array is a grid of elements of the same type. Numpy provides a large set of numeric datatypes that you can use to construct arrays. Numpy tries to guess a datatype when you create an array, but functions that construct arrays usually also include an optional argument to explicitly specify the datatype. Here is an example:"
   ]
  },
  {
   "cell_type": "code",
   "execution_count": 150,
   "metadata": {
    "colab": {
     "base_uri": "https://localhost:8080/"
    },
    "executionInfo": {
     "elapsed": 505,
     "status": "ok",
     "timestamp": 1611737792755,
     "user": {
      "displayName": "Gerben Beintema",
      "photoUrl": "https://lh3.googleusercontent.com/a-/AOh14GiDB1vo6wnSlIsMMGD0ly3iE5msxIZDp41lVxtVGFU=s64",
      "userId": "17991627602473413087"
     },
     "user_tz": -60
    },
    "id": "3J9EsC85Pp_r",
    "outputId": "8fa623c2-9fae-4884-9549-20b93f371170"
   },
   "outputs": [
    {
     "name": "stdout",
     "output_type": "stream",
     "text": [
      "int32 float64 int64\n"
     ]
    }
   ],
   "source": [
    "x = np.array([1, 2])  # Let numpy choose the datatype\n",
    "y = np.array([1.0, 2.0])  # Let numpy choose the datatype\n",
    "z = np.array([1, 2], dtype=np.int64)  # Force a particular datatype\n",
    "\n",
    "print(x.dtype, y.dtype, z.dtype)"
   ]
  },
  {
   "cell_type": "markdown",
   "metadata": {
    "id": "ZdW1YHvFPp_s"
   },
   "source": [
    "### Array Math\n",
    "\n",
    "Basic mathematical functions operate **elementwise** on arrays, and are available both as operator overloads and as functions in the numpy module:"
   ]
  },
  {
   "cell_type": "code",
   "execution_count": 151,
   "metadata": {
    "colab": {
     "base_uri": "https://localhost:8080/"
    },
    "executionInfo": {
     "elapsed": 612,
     "status": "ok",
     "timestamp": 1611737795669,
     "user": {
      "displayName": "Gerben Beintema",
      "photoUrl": "https://lh3.googleusercontent.com/a-/AOh14GiDB1vo6wnSlIsMMGD0ly3iE5msxIZDp41lVxtVGFU=s64",
      "userId": "17991627602473413087"
     },
     "user_tz": -60
    },
    "id": "I8f1qVHoPp_s",
    "outputId": "dd5636c9-ea65-4ace-bb36-7a557a881787"
   },
   "outputs": [
    {
     "name": "stdout",
     "output_type": "stream",
     "text": [
      "[[ 6.  8.]\n",
      " [10. 12.]]\n"
     ]
    }
   ],
   "source": [
    "x = np.array([[1,2],[3,4]], dtype=np.float64)\n",
    "y = np.array([[5,6],[7,8]], dtype=np.float64)\n",
    "\n",
    "# Elementwise sum; both produce the array\n",
    "print(x + y)"
   ]
  },
  {
   "cell_type": "code",
   "execution_count": 152,
   "metadata": {
    "colab": {
     "base_uri": "https://localhost:8080/"
    },
    "executionInfo": {
     "elapsed": 646,
     "status": "ok",
     "timestamp": 1611737795899,
     "user": {
      "displayName": "Gerben Beintema",
      "photoUrl": "https://lh3.googleusercontent.com/a-/AOh14GiDB1vo6wnSlIsMMGD0ly3iE5msxIZDp41lVxtVGFU=s64",
      "userId": "17991627602473413087"
     },
     "user_tz": -60
    },
    "id": "3Q-aueuDPp_s",
    "outputId": "8d4b92be-ae54-4120-f451-602aac5e2dab"
   },
   "outputs": [
    {
     "name": "stdout",
     "output_type": "stream",
     "text": [
      "[[-4. -4.]\n",
      " [-4. -4.]]\n"
     ]
    }
   ],
   "source": [
    "# Elementwise difference; both produce the array\n",
    "print(x - y)"
   ]
  },
  {
   "cell_type": "code",
   "execution_count": 153,
   "metadata": {
    "colab": {
     "base_uri": "https://localhost:8080/"
    },
    "executionInfo": {
     "elapsed": 624,
     "status": "ok",
     "timestamp": 1611737796461,
     "user": {
      "displayName": "Gerben Beintema",
      "photoUrl": "https://lh3.googleusercontent.com/a-/AOh14GiDB1vo6wnSlIsMMGD0ly3iE5msxIZDp41lVxtVGFU=s64",
      "userId": "17991627602473413087"
     },
     "user_tz": -60
    },
    "id": "4cygBKMzPp_u",
    "outputId": "6be08a77-23c0-4c43-9520-fb24721b69ae"
   },
   "outputs": [
    {
     "name": "stdout",
     "output_type": "stream",
     "text": [
      "[[ 5. 12.]\n",
      " [21. 32.]]\n"
     ]
    }
   ],
   "source": [
    "# Elementwise product; both produce the array\n",
    "print(x * y)"
   ]
  },
  {
   "cell_type": "code",
   "execution_count": 154,
   "metadata": {
    "colab": {
     "base_uri": "https://localhost:8080/"
    },
    "executionInfo": {
     "elapsed": 630,
     "status": "ok",
     "timestamp": 1611737825724,
     "user": {
      "displayName": "Gerben Beintema",
      "photoUrl": "https://lh3.googleusercontent.com/a-/AOh14GiDB1vo6wnSlIsMMGD0ly3iE5msxIZDp41lVxtVGFU=s64",
      "userId": "17991627602473413087"
     },
     "user_tz": -60
    },
    "id": "XznfmrmiD1OP",
    "outputId": "1d6ba95b-9e87-49b1-f239-e8ed5009f4fa"
   },
   "outputs": [
    {
     "name": "stdout",
     "output_type": "stream",
     "text": [
      "[[19. 22.]\n",
      " [43. 50.]]\n"
     ]
    }
   ],
   "source": [
    "print(x @ y) #matrix multiply"
   ]
  },
  {
   "cell_type": "code",
   "execution_count": 155,
   "metadata": {
    "colab": {
     "base_uri": "https://localhost:8080/"
    },
    "executionInfo": {
     "elapsed": 485,
     "status": "ok",
     "timestamp": 1611737844424,
     "user": {
      "displayName": "Gerben Beintema",
      "photoUrl": "https://lh3.googleusercontent.com/a-/AOh14GiDB1vo6wnSlIsMMGD0ly3iE5msxIZDp41lVxtVGFU=s64",
      "userId": "17991627602473413087"
     },
     "user_tz": -60
    },
    "id": "_qGqd5IZPp_v",
    "outputId": "9887a679-b4d4-4c43-b3ac-5ca2817dab15"
   },
   "outputs": [
    {
     "name": "stdout",
     "output_type": "stream",
     "text": [
      "[[0.2        0.33333333]\n",
      " [0.42857143 0.5       ]]\n"
     ]
    }
   ],
   "source": [
    "# Elementwise division; both produce the array\n",
    "# [[ 0.2         0.33333333]\n",
    "#  [ 0.42857143  0.5       ]]\n",
    "print(x / y) #not matrix division"
   ]
  },
  {
   "cell_type": "code",
   "execution_count": 156,
   "metadata": {
    "colab": {
     "base_uri": "https://localhost:8080/"
    },
    "executionInfo": {
     "elapsed": 482,
     "status": "ok",
     "timestamp": 1611737895886,
     "user": {
      "displayName": "Gerben Beintema",
      "photoUrl": "https://lh3.googleusercontent.com/a-/AOh14GiDB1vo6wnSlIsMMGD0ly3iE5msxIZDp41lVxtVGFU=s64",
      "userId": "17991627602473413087"
     },
     "user_tz": -60
    },
    "id": "_kt59VBYPp_w",
    "outputId": "b96cb796-ed79-490b-d2f2-897bd6043369"
   },
   "outputs": [
    {
     "name": "stdout",
     "output_type": "stream",
     "text": [
      "[[1.         1.41421356]\n",
      " [1.73205081 2.        ]]\n"
     ]
    }
   ],
   "source": [
    "# Elementwise square root; produces the array\n",
    "# [[ 1.          1.41421356]\n",
    "#  [ 1.73205081  2.        ]]\n",
    "print(np.sqrt(x))"
   ]
  },
  {
   "cell_type": "markdown",
   "metadata": {
    "id": "xPuCh_kDPp_x"
   },
   "source": [
    "Note that unlike MATLAB, * is elementwise multiplication, not matrix multiplication. We instead use the dot function to compute inner products of vectors, to multiply a vector by a matrix, and to multiply matrices. dot is available both as a function in the numpy module and as an instance method of array objects:"
   ]
  },
  {
   "cell_type": "code",
   "execution_count": 157,
   "metadata": {
    "colab": {
     "base_uri": "https://localhost:8080/"
    },
    "executionInfo": {
     "elapsed": 617,
     "status": "ok",
     "timestamp": 1611737907290,
     "user": {
      "displayName": "Gerben Beintema",
      "photoUrl": "https://lh3.googleusercontent.com/a-/AOh14GiDB1vo6wnSlIsMMGD0ly3iE5msxIZDp41lVxtVGFU=s64",
      "userId": "17991627602473413087"
     },
     "user_tz": -60
    },
    "id": "ZrlxAsyJPp_x",
    "outputId": "d43b27ef-6aa1-4d0a-b6a7-ab03c324da99"
   },
   "outputs": [
    {
     "name": "stdout",
     "output_type": "stream",
     "text": [
      "219\n",
      "219\n"
     ]
    }
   ],
   "source": [
    "x = np.array([[1,2],[3,4]])\n",
    "y = np.array([[5,6],[7,8]])\n",
    "\n",
    "v = np.array([9,10])\n",
    "w = np.array([11, 12])\n",
    "\n",
    "# Inner product of vectors; both produce 219\n",
    "print(v.dot(w))\n",
    "print(np.dot(v, w))"
   ]
  },
  {
   "cell_type": "code",
   "execution_count": 158,
   "metadata": {
    "id": "ZTtxwlqXPp_y"
   },
   "outputs": [
    {
     "name": "stdout",
     "output_type": "stream",
     "text": [
      "[29 67]\n",
      "[29 67]\n"
     ]
    }
   ],
   "source": [
    "# Matrix / vector product; both produce the rank 1 array [29 67]\n",
    "print(x.dot(v))\n",
    "print(np.dot(x, v))"
   ]
  },
  {
   "cell_type": "code",
   "execution_count": 159,
   "metadata": {
    "id": "3q3yp0NAPp_y"
   },
   "outputs": [
    {
     "name": "stdout",
     "output_type": "stream",
     "text": [
      "[[19 22]\n",
      " [43 50]]\n",
      "[[19 22]\n",
      " [43 50]]\n"
     ]
    }
   ],
   "source": [
    "# Matrix / matrix product; both produce the rank 2 array\n",
    "# [[19 22]\n",
    "#  [43 50]]\n",
    "print(x.dot(y))\n",
    "print(np.dot(x, y))"
   ]
  },
  {
   "cell_type": "markdown",
   "metadata": {
    "id": "7GF0cberPp_0"
   },
   "source": [
    "Numpy provides many useful functions for performing computations on arrays; one of the most useful is sum:"
   ]
  },
  {
   "cell_type": "code",
   "execution_count": 160,
   "metadata": {
    "id": "I8ylAGfVPp_0"
   },
   "outputs": [
    {
     "name": "stdout",
     "output_type": "stream",
     "text": [
      "10\n",
      "[4 6]\n",
      "[3 7]\n"
     ]
    }
   ],
   "source": [
    "x = np.array([[1,2],[3,4]])\n",
    "\n",
    "print(np.sum(x))  # Compute sum of all elements; prints \"10\"\n",
    "print(np.sum(x, axis=0))  # Compute sum of each column; prints \"[4 6]\"\n",
    "print(np.sum(x, axis=1))  # Compute sum of each row; prints \"[3 7]\""
   ]
  },
  {
   "cell_type": "markdown",
   "metadata": {
    "id": "lOmidy7GPp_0"
   },
   "source": [
    "You can find the full list of mathematical functions provided by numpy in the documentation.\n",
    "\n",
    "Apart from computing mathematical functions using arrays, we frequently need to reshape or otherwise manipulate data in arrays. The simplest example of this type of operation is transposing a matrix; to transpose a matrix, simply use the T attribute of an array object:"
   ]
  },
  {
   "cell_type": "code",
   "execution_count": 161,
   "metadata": {
    "id": "MutBm7xpPp_1"
   },
   "outputs": [
    {
     "name": "stdout",
     "output_type": "stream",
     "text": [
      "[[1 2]\n",
      " [3 4]]\n",
      "[[1 3]\n",
      " [2 4]]\n"
     ]
    }
   ],
   "source": [
    "print(x)\n",
    "print(x.T)"
   ]
  },
  {
   "cell_type": "code",
   "execution_count": 162,
   "metadata": {
    "id": "NnygzR-WPp_2"
   },
   "outputs": [
    {
     "name": "stdout",
     "output_type": "stream",
     "text": [
      "[[1 2 3]]\n",
      "[[1]\n",
      " [2]\n",
      " [3]]\n"
     ]
    }
   ],
   "source": [
    "v = np.array([[1,2,3]])\n",
    "print(v)\n",
    "print(v.T)"
   ]
  },
  {
   "cell_type": "markdown",
   "metadata": {
    "id": "vAXDZ_mnPp_2"
   },
   "source": [
    "### Broadcasting\n",
    "\n",
    "Broadcasting is a powerful mechanism that allows numpy to work with arrays of different shapes when performing arithmetic operations. Frequently we have a smaller array and a larger array, and we want to use the smaller array multiple times to perform some operation on the larger array.\n",
    "\n",
    "For example, suppose that we want to add a constant vector to each column of a matrix. We could do it like this:"
   ]
  },
  {
   "cell_type": "code",
   "execution_count": 163,
   "metadata": {
    "id": "9yC2K1a4Pp_3"
   },
   "outputs": [
    {
     "name": "stdout",
     "output_type": "stream",
     "text": [
      "[[ 1  2  3]\n",
      " [ 4  5  6]\n",
      " [ 7  8  9]\n",
      " [10 11 12]]\n",
      "[[ 2  2  4]\n",
      " [ 5  5  7]\n",
      " [ 8  8 10]\n",
      " [11 11 13]]\n"
     ]
    }
   ],
   "source": [
    "# We will add the vector v to each row of the matrix x,\n",
    "# storing the result in the matrix y\n",
    "x = np.array([[1,2,3], [4,5,6], [7,8,9], [10, 11, 12]])\n",
    "v = np.array([1, 0, 1])\n",
    "print(x)\n",
    "print(x+v) #add [1,0,1] to each row"
   ]
  },
  {
   "cell_type": "markdown",
   "metadata": {
    "id": "SEoKgZSgPp_-"
   },
   "source": [
    "Doing it this way is generally faster than doing it in for loops. Further reading on [Broadcasting](https://numpy.org/doc/stable/user/basics.broadcasting.html)"
   ]
  },
  {
   "cell_type": "markdown",
   "metadata": {
    "id": "qkVHkO6MPp_-"
   },
   "source": [
    "[<a href=\"#Python-Quickstart-Tutorial\">Back to top</a>]"
   ]
  },
  {
   "cell_type": "markdown",
   "metadata": {
    "id": "BOO2x_iaPp_-"
   },
   "source": [
    "## 12. Matplotlib\n",
    "\n",
    "Matplotlib is a plotting library. In this section give a brief introduction to the matplotlib.pyplot module, which provides a plotting system similar to that of MATLAB.\n",
    "\n",
    "By running this special iPython command, we will be displaying plots inline:"
   ]
  },
  {
   "cell_type": "code",
   "execution_count": 41,
   "metadata": {
    "executionInfo": {
     "elapsed": 555,
     "status": "ok",
     "timestamp": 1611737955954,
     "user": {
      "displayName": "Gerben Beintema",
      "photoUrl": "https://lh3.googleusercontent.com/a-/AOh14GiDB1vo6wnSlIsMMGD0ly3iE5msxIZDp41lVxtVGFU=s64",
      "userId": "17991627602473413087"
     },
     "user_tz": -60
    },
    "id": "Xrroqh05PqAB"
   },
   "outputs": [],
   "source": [
    "# now import matplotlib\n",
    "import matplotlib.pyplot as plt"
   ]
  },
  {
   "cell_type": "markdown",
   "metadata": {
    "id": "KTvvUhw4PqAD"
   },
   "source": [
    "### Plotting\n",
    "\n",
    "The most important function in matplotlib is plot, which allows you to plot 2D data. Here is a simple example:"
   ]
  },
  {
   "cell_type": "code",
   "execution_count": 142,
   "metadata": {
    "colab": {
     "base_uri": "https://localhost:8080/",
     "height": 282
    },
    "executionInfo": {
     "elapsed": 708,
     "status": "ok",
     "timestamp": 1611737957060,
     "user": {
      "displayName": "Gerben Beintema",
      "photoUrl": "https://lh3.googleusercontent.com/a-/AOh14GiDB1vo6wnSlIsMMGD0ly3iE5msxIZDp41lVxtVGFU=s64",
      "userId": "17991627602473413087"
     },
     "user_tz": -60
    },
    "id": "jFmFOuLwPqAD",
    "outputId": "fae49faa-1625-4109-e64f-9fc45ca70728"
   },
   "outputs": [
    {
     "data": {
      "text/plain": [
       "[<matplotlib.lines.Line2D at 0x1a0188e9278>]"
      ]
     },
     "execution_count": 142,
     "metadata": {},
     "output_type": "execute_result"
    },
    {
     "data": {
      "image/png": "[encoded data removed]",
      "text/plain": [
       "<Figure size 432x288 with 1 Axes>"
      ]
     },
     "metadata": {
      "needs_background": "light"
     },
     "output_type": "display_data"
    }
   ],
   "source": [
    "# Compute the x and y coordinates for points on a sine curve\n",
    "x = np.arange(0, 3 * np.pi, 0.1)\n",
    "y = np.sin(x)\n",
    "\n",
    "# Plot the points using matplotlib\n",
    "plt.plot(x, y)"
   ]
  },
  {
   "cell_type": "markdown",
   "metadata": {
    "id": "LsutVqRDPqAD"
   },
   "source": [
    "With just a little bit of extra work we can easily plot multiple lines at once, and add a title, legend, and axis labels:"
   ]
  },
  {
   "cell_type": "code",
   "execution_count": 143,
   "metadata": {
    "colab": {
     "base_uri": "https://localhost:8080/",
     "height": 312
    },
    "executionInfo": {
     "elapsed": 789,
     "status": "ok",
     "timestamp": 1611737966794,
     "user": {
      "displayName": "Gerben Beintema",
      "photoUrl": "https://lh3.googleusercontent.com/a-/AOh14GiDB1vo6wnSlIsMMGD0ly3iE5msxIZDp41lVxtVGFU=s64",
      "userId": "17991627602473413087"
     },
     "user_tz": -60
    },
    "id": "fBACZ9lzPqAE",
    "outputId": "c9dc7e2a-cbe4-4009-ec14-ec593f887d06"
   },
   "outputs": [
    {
     "data": {
      "text/plain": [
       "<matplotlib.legend.Legend at 0x1a018965cf8>"
      ]
     },
     "execution_count": 143,
     "metadata": {},
     "output_type": "execute_result"
    },
    {
     "data": {
      "image/png": "[encoded data removed]",
      "text/plain": [
       "<Figure size 432x288 with 1 Axes>"
      ]
     },
     "metadata": {
      "needs_background": "light"
     },
     "output_type": "display_data"
    }
   ],
   "source": [
    "y_sin = np.sin(x)\n",
    "y_cos = np.cos(x)\n",
    "\n",
    "# Plot the points using matplotlib\n",
    "plt.plot(x, y_sin)\n",
    "plt.plot(x, y_cos)\n",
    "plt.xlabel('x axis label')\n",
    "plt.ylabel('y axis label')\n",
    "plt.title('Sine and Cosine')\n",
    "plt.legend(['Sine', 'Cosine'])"
   ]
  },
  {
   "cell_type": "markdown",
   "metadata": {
    "id": "9lNnELFlPqAF"
   },
   "source": [
    "### Subplots\n",
    "\n",
    "You can plot different things in the same figure using the subplot function. Here is an example:"
   ]
  },
  {
   "cell_type": "code",
   "execution_count": 144,
   "metadata": {
    "colab": {
     "base_uri": "https://localhost:8080/",
     "height": 281
    },
    "executionInfo": {
     "elapsed": 926,
     "status": "ok",
     "timestamp": 1611737974553,
     "user": {
      "displayName": "Gerben Beintema",
      "photoUrl": "https://lh3.googleusercontent.com/a-/AOh14GiDB1vo6wnSlIsMMGD0ly3iE5msxIZDp41lVxtVGFU=s64",
      "userId": "17991627602473413087"
     },
     "user_tz": -60
    },
    "id": "pDVKTOXoPqAG",
    "outputId": "e18b3201-e689-468e-879d-635e9ee9505d"
   },
   "outputs": [
    {
     "data": {
      "image/png": "[encoded data removed]",
      "text/plain": [
       "<Figure size 432x288 with 2 Axes>"
      ]
     },
     "metadata": {
      "needs_background": "light"
     },
     "output_type": "display_data"
    }
   ],
   "source": [
    "# Compute the x and y coordinates for points on sine and cosine curves\n",
    "x = np.arange(0, 3 * np.pi, 0.1)\n",
    "y_sin = np.sin(x)\n",
    "y_cos = np.cos(x)\n",
    "\n",
    "# Set up a subplot grid that has height 2 and width 1,\n",
    "# and set the first such subplot as active.\n",
    "plt.subplot(2, 1, 1)\n",
    "\n",
    "# Make the first plot\n",
    "plt.plot(x, y_sin)\n",
    "plt.title('Sine')\n",
    "\n",
    "# Set the second subplot as active, and make the second plot.\n",
    "plt.subplot(2, 1, 2)\n",
    "plt.plot(x, y_cos)\n",
    "plt.title('Cosine')\n",
    "\n",
    "# Show the figure.\n",
    "plt.show()"
   ]
  },
  {
   "cell_type": "markdown",
   "metadata": {},
   "source": [
    "Other examples: https://matplotlib.org/stable/tutorials/introductory/sample_plots.html"
   ]
  }
 ],
 "metadata": {
  "colab": {
   "name": "Quickstart-Tutorial.ipynb",
   "provenance": []
  },
  "kernelspec": {
   "display_name": "Python 3",
   "language": "python",
   "name": "python3"
  },
  "language_info": {
   "codemirror_mode": {
    "name": "ipython",
    "version": 3
   },
   "file_extension": ".py",
   "mimetype": "text/x-python",
   "name": "python",
   "nbconvert_exporter": "python",
   "pygments_lexer": "ipython3",
   "version": "3.7.3"
  }
 },
 "nbformat": 4,
 "nbformat_minor": 1
}
