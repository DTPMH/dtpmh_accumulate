{
 "cells": [
  {
   "cell_type": "markdown",
   "metadata": {
    "collapsed": true,
    "pycharm": {
     "name": "#%% md\n"
    }
   },
   "source": [
    "# Machine Learning for Signal Processing\n",
    "## Assignment: Nonlinear models\n",
    "\n",
    "<table style=\"font-size: 100%;\">\n",
    "    <tr>\n",
    "        <th>Student names</th>\n",
    "        <th>Student number</th>\n",
    "    </tr>\n",
    "    <tr>\n",
    "        <td>Jie Zhang</td>\n",
    "        <td>1616528</td>\n",
    "    </tr>\n",
    "    <tr>\n",
    "        <td>Rundong Zhang</td>\n",
    "        <td>1554301</td>\n",
    "    </tr>\n",
    "</table>"
   ]
  },
  {
   "cell_type": "markdown",
   "metadata": {},
   "source": [
    "## 1.1 Linear models\n",
    "**Q1: Derive the negative log-likelihood cost function J(x; y;$\\theta$ ) that will yield a maximum likelihood estimator\n",
    "of w and b.**\n",
    "\n",
    "$J(\\theta) = - \\sum_{i=0}^{m-1}log\\hat{p}_{model}(y^{(i)}|x^{(i)}, \\theta)$\n",
    "\n",
    "$ J(\\theta)  = -\\frac{1}{m}\\sum_{i=0}^{m-1}log e^{-\\frac{1}{2}[y^{(i)}-f(x^{(i)};\\theta)][y^{(i)}-f(x^{(i)};\\theta)]^T}$\n",
    "\n",
    "Therefore, we can get $ J(\\theta)= \\frac{1}{2m}\\sum_{i=0}^{m-1}(y^{(i)}-f(x^{(i)};\\theta))^2 $ , which is identical to the mean squared error."
   ]
  },
  {
   "cell_type": "markdown",
   "metadata": {},
   "source": [
    "**Q2: Given this cost function, derive an expression for the optimal weights w and bias b.**\n",
    "\n",
    "$ \\frac{\\partial J(\\theta)}{\\partial w} = \\frac{1}{m}\\sum_{i=0}^{m-1}x^{(i)}(f(x^{(i)};\\theta)-y^{(i)}) $\n",
    "\n",
    "$ \\frac{\\partial J(\\theta)}{\\partial b} = \\frac{1}{m}\\sum_{i=0}^{m-1}(f(x^{(i)};\\theta)-y^{(i)}) $"
   ]
  },
  {
   "cell_type": "markdown",
   "metadata": {},
   "source": [
    "**Q3: Derive the optimal parameters w and b that describe this process. Is the process well-described by our\n",
    "regression model?**\n",
    "\n",
    "The code below shows the process of finding the optimal parameters w and b. We use the equations in Q2 to\n",
    "calculate w and b, and the equation in Q1 to calculate the cost function. As it is shown,\n",
    "$ w= [0.0017,0.0024675]^T$ and $b = 0.002725$. The cost function with these parameters is equal to $0.05468567$.\n",
    "The process is well-described by the regression model since the cost function is pretty small. We can also train\n",
    "the model by adding iterations through, so that the accuracy will increase."
   ]
  },
  {
   "cell_type": "code",
   "execution_count": 3,
   "metadata": {
    "pycharm": {
     "name": "#%%\n"
    }
   },
   "outputs": [],
   "source": [
    "import numpy as np\n",
    "import matplotlib.pyplot as plt\n",
    "%matplotlib inline"
   ]
  },
  {
   "cell_type": "code",
   "execution_count": 4,
   "metadata": {
    "pycharm": {
     "name": "#%%\n"
    }
   },
   "outputs": [
    {
     "name": "stdout",
     "output_type": "stream",
     "text": [
      "[[0.  0. ]\n",
      " [0.  1.1]\n",
      " [1.  0.2]\n",
      " [1.  1. ]]\n",
      "[[0.  ]\n",
      " [0.41]\n",
      " [0.18]\n",
      " [0.5 ]]\n"
     ]
    }
   ],
   "source": [
    "# inputs array\n",
    "x = np.array([[0,0],[0,1.1],[1,0.2],[1,1]])\n",
    "# process outputs\n",
    "y= np.array([0,0.41,0.18,0.5]).reshape(4,1)\n",
    "print(x)\n",
    "print(y)"
   ]
  },
  {
   "cell_type": "code",
   "execution_count": 5,
   "metadata": {
    "pycharm": {
     "name": "#%%\n"
    }
   },
   "outputs": [
    {
     "name": "stdout",
     "output_type": "stream",
     "text": [
      "[[0.]\n",
      " [0.]]\n"
     ]
    }
   ],
   "source": [
    "# initialize weight and bias\n",
    "weight = np.zeros((2,1))\n",
    "bias = 0.0\n",
    "print(weight)"
   ]
  },
  {
   "cell_type": "code",
   "execution_count": 6,
   "metadata": {
    "pycharm": {
     "name": "#%%\n"
    }
   },
   "outputs": [],
   "source": [
    "def cost_function(x,y,weight,bias):\n",
    "    samples = len(x)\n",
    "    total_cost = 0.0\n",
    "    for i in range(samples):\n",
    "        total_cost += (y[i]-(x[i]@weight+bias))**2\n",
    "    return total_cost/(2*samples)\n",
    "\n",
    "def update_weight(x,y,weight,bias,learning_rate):\n",
    "    weight_deriv = np.zeros((2,1))\n",
    "    bias_deriv = 0.0\n",
    "    samples = len(x)\n",
    "\n",
    "    for i in range(samples):\n",
    "        w_derivate = (x[i]*((x[i]@weight+bias)-y[i])).reshape(2,1)\n",
    "        weight_deriv+= w_derivate\n",
    "        bias_deriv+= (x[i]@weight+bias)-y[i]\n",
    "\n",
    "\n",
    "    weight -= (weight_deriv/samples) * learning_rate\n",
    "    bias -= (bias_deriv/samples) * learning_rate\n",
    "\n",
    "\n",
    "    return weight,bias"
   ]
  },
  {
   "cell_type": "code",
   "execution_count": 7,
   "metadata": {
    "pycharm": {
     "name": "#%%\n"
    }
   },
   "outputs": [
    {
     "name": "stdout",
     "output_type": "stream",
     "text": [
      "weight = [[0.0017   ]\n",
      " [0.0024675]]\n",
      "bias = [0.002725]\n",
      "J = [0.05468567]\n"
     ]
    }
   ],
   "source": [
    "weight,bias = update_weight(x,y,weight,bias,0.010)\n",
    "print('weight =',weight)\n",
    "print('bias =',bias)\n",
    "cost = cost_function(x,y,weight,bias)\n",
    "print('J =',cost)"
   ]
  },
  {
   "cell_type": "markdown",
   "metadata": {
    "pycharm": {
     "name": "#%% md\n"
    }
   },
   "source": [
    "**Q4: Recalculate the optimal parameters given these outputs. What happens? What would you do to obtain better\n",
    "estimates given such a noisy sensor?**\n",
    "\n",
    "Both weight and bias changes. To obtain better eatimates with such a noisy sensor, we could do more measurements to decrease the influence of the sensor."
   ]
  },
  {
   "cell_type": "code",
   "execution_count": 8,
   "metadata": {
    "pycharm": {
     "name": "#%%\n"
    }
   },
   "outputs": [
    {
     "name": "stdout",
     "output_type": "stream",
     "text": [
      "weight = [[0.00148875]\n",
      " [0.0022371 ]]\n",
      "bias = [0.00228725]\n",
      "J = [0.04513963]\n"
     ]
    }
   ],
   "source": [
    "weight = np.zeros((2,1))\n",
    "bias = 0.0\n",
    "y = np.array([-0.0416,0.3610,0.1222,0.4733]).reshape(4,1)\n",
    "weight,bias = update_weight(x,y,weight,bias,0.01)\n",
    "print('weight =',weight)\n",
    "print('bias =',bias)\n",
    "cost = cost_function(x,y,weight,bias)\n",
    "print('J =',cost)"
   ]
  },
  {
   "cell_type": "markdown",
   "metadata": {},
   "source": [
    "**Q5: Derive the optimal negative log-likelihood cost criterion for a diagonal covariance matrix with\n",
    "$\\sigma_{0},...,\\sigma_{i},...\\sigma_{N}$ on the diagonal. How does the balance between the variances of the parameter\n",
    "estimates play a role in the cost function?**\n",
    "\n",
    "$l(R) = log\\frac{1}{(2\\pi)^\\frac{N}{2}|R|^\\frac{1}{2}}\\exp(-\\frac{1}{2}(x-\\mu)^TR^{-1}(x-\\mu) )$\n",
    "      $ = -\\frac{N}{2}log(2\\pi)-\\frac{1}{2}log|R|-\\frac{1}{2}(x-\\mu)^TR^{-1}(x-\\mu)\n",
    "      $  $= -\\frac{1}{2}log|R|-\\frac{1}{2}(x-\\mu)^TR^{-1}(x-\\mu)+const $,\n",
    "\n",
    "where R is the covariance matrix, $\\mu$ is the mean of the input vector x,|R| is the determinant of the\n",
    "covariance matrix.\n",
    "\n",
    "Variance in data is the variability of the model in a case where different Training Data is used.\n",
    "This would significantly change the estimation of the target function. The higher the variance of the model,\n",
    " the more complex the model is, and it is able to learn more complex functions. However, if the model is too complex for the given dataset,\n",
    "where a simpler solution is possible, a model with high variance causes the model to overfit."
   ]
  },
  {
   "cell_type": "markdown",
   "metadata": {},
   "source": [
    "**Q6: Calculate the optimal parameters of our regression model based on the four\n",
    "possible inputs and outputs of the XOR function.**\n"
   ]
  },
  {
   "cell_type": "code",
   "execution_count": 9,
   "metadata": {
    "pycharm": {
     "name": "#%%\n"
    }
   },
   "outputs": [],
   "source": [
    "# inputs array\n",
    "x = np.array([[0,0],[0,1],[1,0],[1,1]])\n",
    "# process outputs\n",
    "y= np.array([0,1,1,1]).reshape(4,1)\n",
    "\n"
   ]
  },
  {
   "cell_type": "code",
   "execution_count": 10,
   "metadata": {
    "pycharm": {
     "name": "#%%\n"
    }
   },
   "outputs": [
    {
     "name": "stdout",
     "output_type": "stream",
     "text": [
      "[[0.00646428]\n",
      " [0.00721076]]\n",
      "[0.00974575]\n",
      "[0.3610024]\n"
     ]
    }
   ],
   "source": [
    "weight,bias = update_weight(x,y,weight,bias,0.01)\n",
    "print(weight)\n",
    "print(bias)\n",
    "cost = cost_function(x,y,weight,bias)\n",
    "print(cost)"
   ]
  },
  {
   "cell_type": "markdown",
   "metadata": {},
   "source": [
    "## 1.2 Nonlinear functions\n",
    "**Q7: Derive compact expressions for the derivatives of the above nonlinearities\n",
    "with respect to their inputs.**\n",
    "* ReLU\n",
    "\n",
    "$f(x)=max(0,max)$\n",
    "\n",
    "$\\frac{df}{dx}= $\n",
    "\\begin{cases}\n",
    "0 & x<0 \\\\\n",
    "1 & x>0\n",
    "\\end{cases}\n",
    "\n",
    "* Sigmoid\n",
    "\n",
    "$ f(x) = \\frac{1}{1+e^{-x}}$\n",
    "\n",
    "$\\frac{df}{dx}= f(x)(1-f(x))$\n",
    "\n",
    "* Softmax\n",
    "\n",
    "$f(x) = \\frac{e^{x_{j}}}{\\sum_{i=0}^{K-1}e^{x_i}}$ for $j=0,...,K-1$,where $K$ is the size of the vector x.\n",
    "\n",
    "$\\frac{df}{dx}=$\n",
    "\\begin{cases}\n",
    "f_{i}(1-f_{j}) & i=j \\\\\n",
    "-f_{j}f_{i} & i\\neq j\n",
    "\\end{cases}"
   ]
  },
  {
   "cell_type": "markdown",
   "metadata": {},
   "source": [
    "**Q8: What happens to the gradients of the above three nonlinearities when the\n",
    "input values x >> 0?**\n",
    "* ReLU: the gradient of ReLU is always 1 for x>0.\n",
    "* Sigmoid: when the input values are extremely large, the gradients might vanish,i.e.extremely close to 0.\n",
    "* Softmax: similar to Sigmoid, if the value pass to the softmax is large, it will produce 0 gradient."
   ]
  },
  {
   "cell_type": "markdown",
   "metadata": {
    "pycharm": {
     "name": "#%% md\n"
    }
   },
   "source": [
    "## 1.3 Shallow(i.e. not deep) nonlinear models\n",
    "**Q9: We sequentially apply two functions: $f^{(1)}$ and $f^{(2)}$; why should there by a\n",
    "nonlinearity in the first? Doesn't a linear mapping to a new space h suffice?**\n",
    "\n",
    "Because the linear model is not able to present all desirable functions(e.g XOR, and in pratice, many detaction/\n",
    "estimation signal processing functions)."
   ]
  },
  {
   "cell_type": "markdown",
   "metadata": {},
   "source": [
    "**Q10: Given the solution presented in the lecture slides (2-13), reproduce the\n",
    "plots on slide 2-14 in e.g. Python, showing how the input is mapped into a the\n",
    "latent space h. Also plot the decision boundary f(x) = 0.5.**"
   ]
  },
  {
   "cell_type": "code",
   "execution_count": 11,
   "metadata": {
    "pycharm": {
     "name": "#%%\n"
    }
   },
   "outputs": [],
   "source": [
    "def relu(x):\n",
    "    for i in range(0,2):\n",
    "        for j in range(0,4):\n",
    "            x[i][j] = max(0,x[i][j])\n",
    "    return x"
   ]
  },
  {
   "cell_type": "code",
   "execution_count": 12,
   "metadata": {
    "pycharm": {
     "name": "#%%\n"
    }
   },
   "outputs": [],
   "source": [
    "x = np.transpose(np.array([[0,0],[0,1],[1,0],[1,1]]))\n",
    "y = np.array([0,1,1,0])"
   ]
  },
  {
   "cell_type": "code",
   "execution_count": 13,
   "metadata": {
    "pycharm": {
     "name": "#%%\n"
    }
   },
   "outputs": [
    {
     "name": "stdout",
     "output_type": "stream",
     "text": [
      "[[0 1 1 2]\n",
      " [0 0 0 1]]\n"
     ]
    }
   ],
   "source": [
    "w1 = np.array([[1,1],[1,1]])\n",
    "b1 = np.array([0,-1]).reshape(2,1)\n",
    "w2 = np.array([1,-2]).reshape(2,1)\n",
    "b2 = 0.0\n",
    "h = relu(w1@x+b1)\n",
    "print(h)"
   ]
  },
  {
   "cell_type": "code",
   "execution_count": 19,
   "metadata": {
    "pycharm": {
     "name": "#%%\n"
    }
   },
   "outputs": [
    {
     "data": {
      "text/plain": [
       "(-1, 2)"
      ]
     },
     "execution_count": 19,
     "metadata": {},
     "output_type": "execute_result"
    },
    {
     "data": {
      "image/png": "[encoded data removed]",
      "text/plain": [
       "<Figure size 432x288 with 1 Axes>"
      ]
     },
     "metadata": {},
     "output_type": "display_data"
    },
    {
     "data": {
      "image/png": "[encoded data removed]",
      "text/plain": [
       "<Figure size 432x288 with 1 Axes>"
      ]
     },
     "metadata": {},
     "output_type": "display_data"
    }
   ],
   "source": [
    "plt.style.use({'figure.facecolor':'white'})\n",
    "# plt.figure(figsize=(10,5))\n",
    "# plt.subplot(1,2,1)\n",
    "# plt.scatter(x[0],x[1])\n",
    "# plt.subplot(1,2,2)\n",
    "# plt.scatter(h[0],h[1])\n",
    "fig, ax = plt.subplots()\n",
    "xmin, xmax = -2, 4\n",
    "X = np.arange(xmin, xmax, 1)\n",
    "ax.scatter(0, 0, marker='o')\n",
    "ax.scatter(0, 1, marker='+')\n",
    "ax.scatter(1, 0,marker='+')\n",
    "ax.scatter(1, 1, marker='o')\n",
    "ax.set_xlim([xmin, xmax])\n",
    "ax.set_ylim([-0.1, 1.1])\n",
    "ax.set_xlabel('x1')\n",
    "ax.set_ylabel('x2')\n",
    "plt.xlim(-1,2)\n",
    "plt.ylim(-1,2)\n",
    "\n",
    "\n",
    "fig, ax = plt.subplots()\n",
    "xmin, xmax = -2, 4\n",
    "X = np.arange(xmin, xmax, 1)\n",
    "ax.scatter(0, 0, marker='o')\n",
    "ax.scatter(1, 0, marker='+')\n",
    "ax.scatter(1, 0,marker='+')\n",
    "ax.scatter(2, 1, marker='o')\n",
    "ax.set_xlim([xmin, xmax])\n",
    "ax.set_ylim([-0.1, 1.1])\n",
    "m = -w2[0] / w2[1]\n",
    "c = 0.5/w2[1] -1 * b2 / w2[1]\n",
    "ax.plot(X, m * X + c ,label=\"decision boundary\")\n",
    "ax.set_xlabel('h1')\n",
    "ax.set_ylabel('h2')\n",
    "plt.xlim(-1,2)\n",
    "plt.ylim(-1,2)\n"
   ]
  },
  {
   "cell_type": "markdown",
   "metadata": {
    "pycharm": {
     "name": "#%% md\n"
    }
   },
   "source": [
    "**Q11: What does this decision boundary f(x) = 0.5 look like for the input space\n",
    "x? Reconstruct it and present it in a plot.**\n",
    "\n",
    "It will have two lines which represent the two layers.\n",
    "\n",
    "$ h = w^{(1)}x+b^{(1)} = \\begin{bmatrix}\n",
    "x_1 + x_2 \\\\\n",
    "x_1 + x_2 -1\n",
    "\\end{bmatrix} $.\n",
    "\n",
    "$ f(x) = w^{(2)}h+b^{(2)} = \\begin{bmatrix}1 & -2\\end{bmatrix}max(\\begin{bmatrix}\n",
    "x_1 + x_2 \\\\\n",
    "x_1 + x_2 -1\n",
    "\\end{bmatrix})= max(x_1+x_2)-2max(x_1+x_2-1)=0.5 $.\n",
    "\n",
    "We can obtain two lines that are consistant with this:\n",
    "$x_2=-x_1+0.5$ and $x_2=-x_1+1.5$."
   ]
  },
  {
   "cell_type": "code",
   "execution_count": 121,
   "metadata": {
    "pycharm": {
     "name": "#%%\n"
    }
   },
   "outputs": [
    {
     "data": {
      "text/plain": [
       "(-1, 2)"
      ]
     },
     "execution_count": 121,
     "metadata": {},
     "output_type": "execute_result"
    },
    {
     "data": {
      "image/png": "[encoded data removed]",
      "text/plain": [
       "<Figure size 432x288 with 1 Axes>"
      ]
     },
     "metadata": {},
     "output_type": "display_data"
    }
   ],
   "source": [
    "fig, ax = plt.subplots()\n",
    "xmin, xmax = -2, 4\n",
    "x = np.linspace(-1,2,300)\n",
    "y1 = -x+0.5\n",
    "y2 = -x+1.5\n",
    "X = np.arange(xmin, xmax, 1)\n",
    "ax.scatter(0, 0, marker='o')\n",
    "ax.scatter(0, 1, marker='+')\n",
    "ax.scatter(1, 0,marker='+')\n",
    "ax.scatter(1, 1, marker='o')\n",
    "#ax.set_xlim([xmin, xmax])\n",
    "#ax.set_ylim([-0.1, 1.1])\n",
    "ax.set_xlabel('x1')\n",
    "ax.set_ylabel('x2')\n",
    "plt.plot(x,y1, 'r')\n",
    "plt.plot(x,y2, 'r')\n",
    "plt.xlim(-1,2)\n",
    "plt.ylim(-1,2)\n"
   ]
  },
  {
   "cell_type": "markdown",
   "metadata": {},
   "source": [
    "## 1.4 Binary classification with logistic regression\n",
    "**Q12: Which  of  the  nonlinearities  you  know  would  be  useful  for  categorical(multi-class) classification problems and why?**\n",
    "\n",
    "Softmax is suitable for multi-class categorical classification problems. Because it can transfer a K-th vector into a probability distribution consisting of K probabilities proportional to the exponentials of the input numbers. And it ensures each element is between 0 and 1, and the sum equals 1. In binary problems, sigmoid is the same as softmax function."
   ]
  },
  {
   "cell_type": "markdown",
   "metadata": {},
   "source": [
    "**Q13: Derive the gradient of J with respect to p.**"
   ]
  },
  {
   "cell_type": "markdown",
   "metadata": {},
   "source": [
    "$ \\frac{\\partial J}{\\partial p} = -\\sum_{i=0}^{m-1}(\\frac{y^{(i)}}{p^{(i)}}-\\frac{1-y^{(i)}}{1-p^{(i)}})= -\\sum_{i=0}^{m-1}(\\frac{y^{(i)}}{\\sigma (f)}-\\frac{1-y^{(i)}}{1-\\sigma (f)}) $"
   ]
  },
  {
   "cell_type": "markdown",
   "metadata": {},
   "source": [
    "**Q14: Derive the gradient of p with respect to f.**"
   ]
  },
  {
   "cell_type": "markdown",
   "metadata": {},
   "source": [
    "According to Q7, we have\n",
    "\n",
    "$\\frac{\\partial p}{\\partial f}= \\frac{\\partial \\sigma(f)}{\\partial f}=\\sigma(f)(1-\\sigma(f))$"
   ]
  },
  {
   "cell_type": "markdown",
   "metadata": {},
   "source": [
    "**Q15: Derive the gradient of f(x;w)with respect to w. To which update (linear) adaptive filter does this step relate?**"
   ]
  },
  {
   "cell_type": "markdown",
   "metadata": {},
   "source": [
    "$ \\frac{\\partial f({\\bf x};\\bf w)}{\\partial \\bf w} = \\bf x $.\n",
    "\n",
    "It is related with wiener filter."
   ]
  },
  {
   "cell_type": "markdown",
   "metadata": {},
   "source": [
    "**Q16:  Use the chain rule to derive the gradient of the cost function with respect to the weights**"
   ]
  },
  {
   "cell_type": "markdown",
   "metadata": {},
   "source": [
    "According to the chain rule, we obtain that\n",
    "$ \\frac{\\partial J}{\\partial \\bf w} = \\frac{\\partial J}{\\partial p}\\frac{\\partial p}{\\partial f}\\frac{\\partial f}{\\partial \\bf w}= -\\sum_{i=0}^{m-1}(y^{(i)}-\\sigma (f))x^{(i)}$"
   ]
  },
  {
   "cell_type": "markdown",
   "metadata": {},
   "source": [
    "## 1.5   Classification with a shallow nonlinear model\n",
    "**Q17:  Similar to Q13-Q16, use the chain rule to derive the gradient of the costfunction with respect to all the model weights and biases.**"
   ]
  },
  {
   "cell_type": "markdown",
   "metadata": {},
   "source": [
    "The answer is B A C B."
   ]
  }
 ],
 "metadata": {
  "kernelspec": {
   "display_name": "Python 3",
   "language": "python",
   "name": "python3"
  },
  "language_info": {
   "codemirror_mode": {
    "name": "ipython",
    "version": 3
   },
   "file_extension": ".py",
   "mimetype": "text/x-python",
   "name": "python",
   "nbconvert_exporter": "python",
   "pygments_lexer": "ipython3",
   "version": "3.7.3"
  }
 },
 "nbformat": 4,
 "nbformat_minor": 1
}
